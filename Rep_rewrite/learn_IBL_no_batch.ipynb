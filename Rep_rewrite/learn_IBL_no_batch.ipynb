{
 "cells": [
  {
   "cell_type": "markdown",
   "metadata": {},
   "source": [
    "# test the new model"
   ]
  },
  {
   "cell_type": "markdown",
   "metadata": {},
   "source": []
  },
  {
   "cell_type": "code",
   "execution_count": 73,
   "metadata": {},
   "outputs": [],
   "source": [
    "import pyibl\n",
    "import random\n",
    "import csv\n",
    "from datetime import date"
   ]
  },
  {
   "cell_type": "code",
   "execution_count": 82,
   "metadata": {},
   "outputs": [
    {
     "data": {
      "text/plain": [
       "143"
      ]
     },
     "execution_count": 82,
     "metadata": {},
     "output_type": "execute_result"
    }
   ],
   "source": [
    "logfile=f\"log-{date.today()}.csv\"\n",
    "file = open(logfile, 'w')\n",
    "writer = csv.writer(file)\n",
    "writer.writerow((\"network,participant cluster,round,\"\n",
    "                        \"player 1,player 2,\"\n",
    "                        \"player 1 choice,player 2 choice,\"\n",
    "                        \"player 1 rep,player 2 rep,\" #new code\n",
    "                        \"player 1 payoff,player 2 payoff\").split(\",\"))"
   ]
  },
  {
   "cell_type": "code",
   "execution_count": 38,
   "metadata": {},
   "outputs": [],
   "source": [
    "PAIRINGS = {\n",
    "    \"disconnected\": [(0, 1), (2, 3), (4, 5)], #3 edge for disconnected\n",
    "    \"ring\": [(0, 1), (2, 3), (4,5), #6 edges for ring\n",
    "             (1, 2), (3, 4), (0, 5)],\n",
    "    \"fully-connected\": [(0, 1), (2, 3), (4,5),\n",
    "                        (1, 2), (3, 4), (0, 5),\n",
    "                        (0,2),(3,5),(4,1),\n",
    "                        (2,4),(5,1),(0,3),\n",
    "                        (2,5),(0,4),(1,3) ]} #15 C(6,2) for fully connected graph\n",
    "# the list are shuffled randomly to make sure "
   ]
  },
  {
   "cell_type": "code",
   "execution_count": 57,
   "metadata": {},
   "outputs": [
    {
     "name": "stdout",
     "output_type": "stream",
     "text": [
      "[(4, 5), (2, 3), (0, 1)]\n",
      "[(0, 5), (2, 3), (3, 4), (0, 1), (1, 2), (4, 5)]\n",
      "[(2, 5), (2, 3), (0, 4), (0, 2), (4, 5), (4, 1), (3, 4), (0, 3), (2, 4), (3, 5), (1, 3), (5, 1), (0, 1), (0, 5), (1, 2)]\n"
     ]
    }
   ],
   "source": [
    "for condition in PAIRINGS.keys():\n",
    "    random.shuffle(PAIRINGS[condition])\n",
    "    print (PAIRINGS[condition])\n",
    "    #for p in random.choice(PAIRINGS[condition]):\n",
    "     #  print(condition, p)"
   ]
  },
  {
   "cell_type": "code",
   "execution_count": 83,
   "metadata": {},
   "outputs": [],
   "source": [
    "GROUPS = 2\n",
    "ROUNDS = 5\n",
    "NODES = 6\n",
    "\n",
    "GAME = {('cooperate', 'cooperate'): (5, 5),\n",
    "        ('cooperate', 'defect'): (0, 5),\n",
    "        ('defect', 'cooperate'): (5, 0),\n",
    "        ('defect', 'defect'): (0, 0)} "
   ]
  },
  {
   "cell_type": "code",
   "execution_count": 67,
   "metadata": {},
   "outputs": [
    {
     "data": {
      "text/plain": [
       "[<Agent 0 140605163893008>,\n",
       " <Agent 1 140605163806480>,\n",
       " <Agent 2 140605156394192>,\n",
       " <Agent 3 140605425045840>,\n",
       " <Agent 4 140605163846480>,\n",
       " <Agent 5 140605163845392>]"
      ]
     },
     "execution_count": 67,
     "metadata": {},
     "output_type": "execute_result"
    }
   ],
   "source": [
    "agents = [pyibl.Agent(str(name),[\"button\", \"reputation\"], default_utility=5 ) for name in range(NODES) ]\n",
    "agents"
   ]
  },
  {
   "cell_type": "code",
   "execution_count": null,
   "metadata": {},
   "outputs": [],
   "source": [
    "def intialize_agents(NODES):\n",
    "    ibl_agents = [pyibl.Agent(str(name),[\"button\", \"reputation\"], default_utility=5 ) for name in range(NODES) ]\n",
    "    return(ibl_agents)"
   ]
  },
  {
   "cell_type": "code",
   "execution_count": null,
   "metadata": {},
   "outputs": [],
   "source": [
    "def "
   ]
  },
  {
   "cell_type": "code",
   "execution_count": 84,
   "metadata": {},
   "outputs": [],
   "source": [
    "# testing loops\n",
    "#first assign group number (\n",
    "# e.g. 10 groups means 10 different group of agents assigned to each condition) \n",
    "for group_number in range(GROUPS):\n",
    "    random.shuffle(PAIRINGS[condition])\n",
    "    #then assign condition as in network layout\n",
    "    #the condition are keys of PAIRING, i.e. disconnected, fully connected, ring\n",
    "    \n",
    "    for condition in PAIRINGS.keys():\n",
    "        \n",
    "        #create agents\n",
    "        agents = [pyibl.Agent(str(name),[\"button\", \"reputation\"], default_utility=5 ) for name in range(NODES) ]\n",
    "\n",
    "\n",
    "        #initialize buttons\n",
    "        cooperate_CC = { \"button\": \"cooperate\", \"reputation\": 'CC' }\n",
    "        cooperate_CD = { \"button\": \"cooperate\", \"reputation\": 'CD' }\n",
    "        cooperate_DC = { \"button\": \"cooperate\", \"reputation\": 'DC' }\n",
    "        cooperate_DD = { \"button\": \"cooperate\", \"reputation\": 'DD' }\n",
    "        defect_CC = { \"button\": \"defect\", \"reputation\": 'CC' }\n",
    "        defect_CD = { \"button\": \"defect\", \"reputation\": 'CD' }\n",
    "        defect_DC = { \"button\": \"defect\", \"reputation\": 'DC' }\n",
    "        defect_DD = { \"button\": \"defect\", \"reputation\": 'DD' }\n",
    "\n",
    "        #initialize first move \n",
    "        last_move_list = ['o'] *NODES \n",
    "        for i in range(NODES):\n",
    "            last_move_list[i] = random.choice('CD') \n",
    "\n",
    "        #run sim\n",
    "        for simulation_rounds in range(ROUNDS):\n",
    "            for p in (PAIRINGS[condition]):   \n",
    "\n",
    "                a = agents[p[0]]\n",
    "                b = agents[p[1]]\n",
    "\n",
    "                last_round = last_move_list[p[0]] + last_move_list[p[1]]#a_last+b_last\n",
    "\n",
    "                # make new choice based on past repuation of both participant\n",
    "                if last_round == 'CC':\n",
    "                    result_a = a.choose(cooperate_CC, defect_CC)\n",
    "                    result_b = b.choose(cooperate_CC, defect_CC)\n",
    "                elif last_round == 'CD':\n",
    "                    result_a = a.choose(cooperate_CD, defect_CD)\n",
    "                    result_b = b.choose(cooperate_DC, defect_DC)\n",
    "                elif last_round == 'DC':\n",
    "                    result_a = a.choose(cooperate_DC, defect_DC)\n",
    "                    result_b = b.choose(cooperate_CD, defect_CD)\n",
    "                elif last_round == 'DD':\n",
    "                    result_a = a.choose(cooperate_DD, defect_DD)\n",
    "                    result_b = b.choose(cooperate_DD, defect_DD)\n",
    "\n",
    "                # update result\n",
    "                pair_result = (result_a['button'],result_b['button'])\n",
    "\n",
    "                if pair_result == ('cooperate', 'cooperate'):\n",
    "                    a.respond(5)\n",
    "                    b.respond(5)\n",
    "                    (last_move_list[p[0]],last_move_list[p[1]])=('CC')\n",
    "  \n",
    "                    \n",
    "                elif pair_result == ('cooperate', 'defect'):\n",
    "                    a.respond(0)\n",
    "                    b.respond(5)\n",
    "                    (last_move_list[p[0]],last_move_list[p[1]])=('CD')\n",
    "            \n",
    "                elif pair_result == ('defect', 'cooperate'):\n",
    "                    a.respond(5)\n",
    "                    b.respond(0)\n",
    "                    (last_move_list[p[0]],last_move_list[p[1]])=('DC')\n",
    "       \n",
    "                elif pair_result == ('defect', 'defect'):\n",
    "                    a.respond(0)\n",
    "                    b.respond(0)\n",
    "                    (last_move_list[p[0]],last_move_list[p[1]])=('DD')\n",
    "      \n",
    "\n",
    "                payoffs = GAME[pair_result] \n",
    "                writer.writerow([condition, group_number, simulation_rounds] + list(p) + list(pair_result)+ list(last_round) + list(payoffs))\n",
    "            \n",
    "\n",
    "\n",
    "              \n"
   ]
  },
  {
   "cell_type": "markdown",
   "metadata": {},
   "source": [
    "# Figure out pairs\n"
   ]
  },
  {
   "cell_type": "markdown",
   "metadata": {},
   "source": []
  },
  {
   "cell_type": "markdown",
   "metadata": {},
   "source": [
    "range(16)"
   ]
  },
  {
   "cell_type": "code",
   "execution_count": 3,
   "metadata": {},
   "outputs": [
    {
     "name": "stdout",
     "output_type": "stream",
     "text": [
      "[0, 1, 2, 3, 4]\n"
     ]
    }
   ],
   "source": [
    "mylist = [ *range(5) ]\n",
    "print(mylist)"
   ]
  },
  {
   "cell_type": "code",
   "execution_count": 13,
   "metadata": {},
   "outputs": [
    {
     "data": {
      "text/plain": [
       "[(0, 1),\n",
       " (0, 2),\n",
       " (0, 3),\n",
       " (0, 4),\n",
       " (0, 5),\n",
       " (0, 6),\n",
       " (0, 7),\n",
       " (0, 8),\n",
       " (0, 9),\n",
       " (0, 10),\n",
       " (0, 11),\n",
       " (0, 12),\n",
       " (0, 13),\n",
       " (0, 14),\n",
       " (0, 15),\n",
       " (1, 2),\n",
       " (1, 3),\n",
       " (1, 4),\n",
       " (1, 5),\n",
       " (1, 6),\n",
       " (1, 7),\n",
       " (1, 8),\n",
       " (1, 9),\n",
       " (1, 10),\n",
       " (1, 11),\n",
       " (1, 12),\n",
       " (1, 13),\n",
       " (1, 14),\n",
       " (1, 15),\n",
       " (2, 3),\n",
       " (2, 4),\n",
       " (2, 5),\n",
       " (2, 6),\n",
       " (2, 7),\n",
       " (2, 8),\n",
       " (2, 9),\n",
       " (2, 10),\n",
       " (2, 11),\n",
       " (2, 12),\n",
       " (2, 13),\n",
       " (2, 14),\n",
       " (2, 15),\n",
       " (3, 4),\n",
       " (3, 5),\n",
       " (3, 6),\n",
       " (3, 7),\n",
       " (3, 8),\n",
       " (3, 9),\n",
       " (3, 10),\n",
       " (3, 11),\n",
       " (3, 12),\n",
       " (3, 13),\n",
       " (3, 14),\n",
       " (3, 15),\n",
       " (4, 5),\n",
       " (4, 6),\n",
       " (4, 7),\n",
       " (4, 8),\n",
       " (4, 9),\n",
       " (4, 10),\n",
       " (4, 11),\n",
       " (4, 12),\n",
       " (4, 13),\n",
       " (4, 14),\n",
       " (4, 15),\n",
       " (5, 6),\n",
       " (5, 7),\n",
       " (5, 8),\n",
       " (5, 9),\n",
       " (5, 10),\n",
       " (5, 11),\n",
       " (5, 12),\n",
       " (5, 13),\n",
       " (5, 14),\n",
       " (5, 15),\n",
       " (6, 7),\n",
       " (6, 8),\n",
       " (6, 9),\n",
       " (6, 10),\n",
       " (6, 11),\n",
       " (6, 12),\n",
       " (6, 13),\n",
       " (6, 14),\n",
       " (6, 15),\n",
       " (7, 8),\n",
       " (7, 9),\n",
       " (7, 10),\n",
       " (7, 11),\n",
       " (7, 12),\n",
       " (7, 13),\n",
       " (7, 14),\n",
       " (7, 15),\n",
       " (8, 9),\n",
       " (8, 10),\n",
       " (8, 11),\n",
       " (8, 12),\n",
       " (8, 13),\n",
       " (8, 14),\n",
       " (8, 15),\n",
       " (9, 10),\n",
       " (9, 11),\n",
       " (9, 12),\n",
       " (9, 13),\n",
       " (9, 14),\n",
       " (9, 15),\n",
       " (10, 11),\n",
       " (10, 12),\n",
       " (10, 13),\n",
       " (10, 14),\n",
       " (10, 15),\n",
       " (11, 12),\n",
       " (11, 13),\n",
       " (11, 14),\n",
       " (11, 15),\n",
       " (12, 13),\n",
       " (12, 14),\n",
       " (12, 15),\n",
       " (13, 14),\n",
       " (13, 15),\n",
       " (14, 15)]"
      ]
     },
     "execution_count": 13,
     "metadata": {},
     "output_type": "execute_result"
    }
   ],
   "source": [
    "import itertools\n",
    "input = [ *range(16) ]\n",
    "final_list  = [i for i in itertools.combinations(input, 2)]\n",
    "final_list"
   ]
  },
  {
   "cell_type": "code",
   "execution_count": 12,
   "metadata": {},
   "outputs": [
    {
     "data": {
      "text/plain": [
       "15"
      ]
     },
     "execution_count": 12,
     "metadata": {},
     "output_type": "execute_result"
    }
   ],
   "source": [
    "len(final_list)"
   ]
  },
  {
   "cell_type": "code",
   "execution_count": null,
   "metadata": {},
   "outputs": [],
   "source": [
    "for p in random.choice(PAIRINGS[\"disconnected\"]):\n",
    "    print(p)"
   ]
  },
  {
   "cell_type": "markdown",
   "metadata": {},
   "source": []
  }
 ],
 "metadata": {
  "interpreter": {
   "hash": "aff9df1755635ce4714164c8c4a20bd8109c870f0a93ff0490634f44c044b7f8"
  },
  "kernelspec": {
   "display_name": "Python 3.7.11 ('DDML')",
   "language": "python",
   "name": "python3"
  },
  "language_info": {
   "codemirror_mode": {
    "name": "ipython",
    "version": 3
   },
   "file_extension": ".py",
   "mimetype": "text/x-python",
   "name": "python",
   "nbconvert_exporter": "python",
   "pygments_lexer": "ipython3",
   "version": "3.8.8"
  },
  "orig_nbformat": 4
 },
 "nbformat": 4,
 "nbformat_minor": 2
}
