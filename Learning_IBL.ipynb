{
 "cells": [
  {
   "cell_type": "markdown",
   "metadata": {},
   "source": [
    "## 1 - Single agents"
   ]
  },
  {
   "cell_type": "code",
   "execution_count": null,
   "metadata": {},
   "outputs": [],
   "source": [
    "import pyibl"
   ]
  },
  {
   "cell_type": "code",
   "execution_count": null,
   "metadata": {},
   "outputs": [],
   "source": [
    "a = pyibl.Agent(\"My Agent\")\n",
    "# a.default_utility = 10.0\n",
    "# a.choose(\"The Green Button\", \"The Red Button\")\n",
    "# a.respond(1.0)  #consequence of the pay-off update associate with Green Button\n",
    "def choose_and_respond():\n",
    "        result = a.choose(\"The Green Button\", \"The Red Button\")\n",
    "        if result == \"The Green Button\":\n",
    "            a.respond(1.0)\n",
    "        else:\n",
    "            a.respond(-2.0)\n",
    "        return result\n",
    "\n",
    "choose_and_respond()\n",
    "a.reset()\n",
    "results = { \"The Green Button\" : 0, \"The Red Button\" : 0 }\n",
    "\n",
    "for i in range(1000):\n",
    "    results[choose_and_respond()] += 1\n",
    "\n",
    "results\n",
    "\n",
    "def choose_and_respond(choices):\n",
    "\tresult = a.choose(*choices)\n",
    "\ta.respond(choices[result])\n",
    "\treturn result\n",
    "\n",
    "choices = { \"green\": -5, \"blue\": 0, \"yellow\": -4, \"red\": -6, \"violet\": 0 }\n",
    "\n",
    "results = { k: 0 for k in choices }\n",
    "\n",
    "for i in range(1000):\n",
    "    results[choose_and_respond(choices)] += 1\n",
    "\n",
    "results"
   ]
  },
  {
   "cell_type": "code",
   "execution_count": null,
   "metadata": {},
   "outputs": [],
   "source": [
    "list_A = [i for i in \"abcde\"]\n",
    "list_A"
   ]
  },
  {
   "cell_type": "code",
   "execution_count": null,
   "metadata": {},
   "outputs": [],
   "source": [
    "a = pyibl.Agent(\"My Agent\")\n",
    "a.default_utility = 10\n"
   ]
  },
  {
   "cell_type": "code",
   "execution_count": null,
   "metadata": {},
   "outputs": [],
   "source": [
    "result = a.choose(\"The Green Button\", \"The Red Button\")\n",
    "result"
   ]
  },
  {
   "cell_type": "code",
   "execution_count": null,
   "metadata": {},
   "outputs": [],
   "source": [
    "a.respond(2)"
   ]
  },
  {
   "cell_type": "code",
   "execution_count": null,
   "metadata": {},
   "outputs": [],
   "source": [
    "import inspect\n",
    "method_names = [attr for attr in dir(a) if inspect.ismethod(getattr(a, attr))]\n",
    "method_names"
   ]
  },
  {
   "cell_type": "code",
   "execution_count": null,
   "metadata": {},
   "outputs": [],
   "source": [
    "a.__dict__"
   ]
  },
  {
   "cell_type": "markdown",
   "metadata": {},
   "source": [
    "## 2 - Multiple Agents"
   ]
  },
  {
   "cell_type": "markdown",
   "metadata": {},
   "source": [
    "### simple multiple agents"
   ]
  },
  {
   "cell_type": "code",
   "execution_count": null,
   "metadata": {},
   "outputs": [],
   "source": [
    "import pyibl\n",
    "from pyibl import Agent"
   ]
  },
  {
   "cell_type": "code",
   "execution_count": null,
   "metadata": {},
   "outputs": [],
   "source": [
    "agents = [ Agent(name, default_utility=20) for name in \"ABCDEFGHIJ\" ]"
   ]
  },
  {
   "cell_type": "code",
   "execution_count": null,
   "metadata": {},
   "outputs": [],
   "source": [
    "agents "
   ]
  },
  {
   "cell_type": "code",
   "execution_count": null,
   "metadata": {},
   "outputs": [],
   "source": [
    "choices = [ a.choose('safe', 'risky') for a in agents ]"
   ]
  },
  {
   "cell_type": "code",
   "execution_count": null,
   "metadata": {},
   "outputs": [],
   "source": [
    "risky = [ a.name for a, c in zip(agents, choices) if c == 'risky' ]\n",
    "risky"
   ]
  },
  {
   "cell_type": "code",
   "execution_count": null,
   "metadata": {},
   "outputs": [],
   "source": [
    "reward = 7 / len(risky)"
   ]
  },
  {
   "cell_type": "code",
   "execution_count": null,
   "metadata": {},
   "outputs": [],
   "source": [
    "by_agent = [0]*len(agents)\n",
    "by_agent\n",
    "'a' in 'abcd'"
   ]
  },
  {
   "cell_type": "markdown",
   "metadata": {},
   "source": [
    "### trying attributes"
   ]
  },
  {
   "cell_type": "code",
   "execution_count": null,
   "metadata": {},
   "outputs": [],
   "source": [
    "import pyibl"
   ]
  },
  {
   "cell_type": "code",
   "execution_count": null,
   "metadata": {},
   "outputs": [],
   "source": [
    "a = pyibl.Agent(\"My Agent\", [\"button\", \"reputation\"], default_utility=5)\n",
    "# cooperate = { \"button\": \"cooperate\", \"reputation\": 'C' }\n",
    "# defect = { \"button\": \"defect\", \"reputation\": 'D' }\n"
   ]
  },
  {
   "cell_type": "code",
   "execution_count": null,
   "metadata": {},
   "outputs": [],
   "source": [
    "result = a.choose('cooperate', 'defect')\n",
    "result\n",
    "a.respond(2)"
   ]
  },
  {
   "cell_type": "code",
   "execution_count": null,
   "metadata": {},
   "outputs": [],
   "source": []
  },
  {
   "cell_type": "code",
   "execution_count": null,
   "metadata": {},
   "outputs": [],
   "source": [
    "result = a.choose(cooperate, defect)\n",
    "if result['button'] == 'cooperate':\n",
    "    \n",
    "    a.respond(5)\n",
    "else:\n",
    "    a.respond(0)\n",
    "result"
   ]
  },
  {
   "cell_type": "code",
   "execution_count": null,
   "metadata": {},
   "outputs": [],
   "source": [
    "a.instances()"
   ]
  },
  {
   "cell_type": "code",
   "execution_count": null,
   "metadata": {},
   "outputs": [],
   "source": [
    "a.reset()"
   ]
  },
  {
   "cell_type": "code",
   "execution_count": null,
   "metadata": {},
   "outputs": [],
   "source": []
  },
  {
   "cell_type": "markdown",
   "metadata": {},
   "source": [
    "### Two agent situation "
   ]
  },
  {
   "cell_type": "code",
   "execution_count": null,
   "metadata": {},
   "outputs": [],
   "source": [
    "# don't have to make binary choice\n",
    "a = pyibl.Agent(\"Agent_a\",default_utility=5)\n",
    "for i in range(10):\n",
    "    a.choose('a','b','c','d','e')\n",
    "    a.respond(2)\n",
    "a.instances()\n"
   ]
  },
  {
   "cell_type": "code",
   "execution_count": null,
   "metadata": {},
   "outputs": [],
   "source": [
    "import pyibl\n",
    "a = pyibl.Agent(\"Agent_a\",[\"button\", \"reputation\"],default_utility=5)\n",
    "b = pyibl.Agent(\"Agent_b\", [\"button\", \"reputation\"],default_utility=5)"
   ]
  },
  {
   "cell_type": "code",
   "execution_count": null,
   "metadata": {},
   "outputs": [],
   "source": [
    "# cooperate_a = { \"button\": \"cooperate\", \"reputation\": 'CC' }\n",
    "# defect_a = { \"button\": \"defect\", \"reputation\": 'CC' }\n",
    "# cooperate_b = { \"button\": \"cooperate\", \"reputation\": 'CC' }\n",
    "# defect_b = { \"button\": \"defect\", \"reputation\": 'CC' }"
   ]
  },
  {
   "cell_type": "code",
   "execution_count": null,
   "metadata": {},
   "outputs": [],
   "source": [
    "#definte agent, attribute and instances\n",
    "a = pyibl.Agent(\"Agent_a\",[\"button\", \"reputation\"],default_utility=5)\n",
    "b = pyibl.Agent(\"Agent_b\",[\"button\", \"reputation\"],default_utility=5)\n",
    "cooperate_CC = { \"button\": \"cooperate\", \"reputation\": 'CC' }\n",
    "cooperate_CD = { \"button\": \"cooperate\", \"reputation\": 'CD' }\n",
    "cooperate_DC = { \"button\": \"cooperate\", \"reputation\": 'DC' }\n",
    "cooperate_DD = { \"button\": \"cooperate\", \"reputation\": 'DD' }\n",
    "defect_CC = { \"button\": \"defect\", \"reputation\": 'CC' }\n",
    "defect_CD = { \"button\": \"defect\", \"reputation\": 'CD' }\n",
    "defect_DC = { \"button\": \"defect\", \"reputation\": 'DC' }\n",
    "defect_DD = { \"button\": \"defect\", \"reputation\": 'DD' }\n"
   ]
  },
  {
   "cell_type": "code",
   "execution_count": null,
   "metadata": {},
   "outputs": [],
   "source": [
    "result_a['reputation']"
   ]
  },
  {
   "cell_type": "code",
   "execution_count": null,
   "metadata": {},
   "outputs": [],
   "source": [
    "\n",
    "\n",
    "result_a = a.choose(cooperate_CC,cooperate_CD,cooperate_DC,defect_CC,defect_CD,defect_DC,defect_DD)\n",
    "result_b = b.choose(cooperate_CC,cooperate_CD,cooperate_DC,defect_CC,defect_CD,defect_DC,defect_DD)\n",
    "\n",
    "pair_result = (result_a['button'],result_b['button'])\n",
    "\n",
    "if pair_result == ('cooperate', 'cooperate'):\n",
    "    a.respond(5)\n",
    "    b.respond(5)\n",
    "\n",
    "    \n",
    "elif pair_result == ('cooperate', 'defect'):\n",
    "    a.respond(0)\n",
    "    b.respond(5)\n",
    "elif pair_result == ('defect', 'cooperate'):\n",
    "    a.respond(5)\n",
    "    b.respond(0)\n",
    "else:\n",
    "    a.respond(0)\n",
    "    b.respond(0)\n"
   ]
  },
  {
   "cell_type": "code",
   "execution_count": null,
   "metadata": {},
   "outputs": [],
   "source": [
    "'a'+'b'"
   ]
  },
  {
   "cell_type": "code",
   "execution_count": null,
   "metadata": {},
   "outputs": [],
   "source": [
    "a_last = 'C'\n",
    "b_last = 'D'"
   ]
  },
  {
   "cell_type": "code",
   "execution_count": null,
   "metadata": {},
   "outputs": [],
   "source": [
    "last_round = a_last+b_last\n",
    "if last_round == 'CC':\n",
    "    result_a = a.choose(cooperate_CC,defect_CC)\n",
    "    result_b = b.choose(cooperate_CC,defect_CC)\n",
    "elif last_round == 'CD':\n",
    "    result_a = a.choose(cooperate_CD,defect_CD)\n",
    "    result_b = b.choose(cooperate_CD,defect_CD)\n",
    "elif last_round == 'DC':\n",
    "    result_a = a.choose(cooperate_DC,defect_DC)\n",
    "    result_b = b.choose(cooperate_DC,defect_DC)\n",
    "else:\n",
    "    result_a = a.choose(cooperate_DD,defect_DD)\n",
    "    result_b = b.choose(cooperate_DD,defect_DD)\n",
    "\n",
    "\n",
    "pair_result = (result_a['button'],result_b['button'])\n",
    "\n",
    "if pair_result == ('cooperate', 'cooperate'):\n",
    "    a.respond(5)\n",
    "    b.respond(5)\n",
    "    a_last = 'C'\n",
    "    b_last = 'C'\n",
    "    \n",
    "elif pair_result == ('cooperate', 'defect'):\n",
    "    a.respond(0)\n",
    "    b.respond(5)\n",
    "    a_last = 'C'\n",
    "    b_last = 'D'\n",
    "elif pair_result == ('defect', 'cooperate'):\n",
    "    a.respond(5)\n",
    "    b.respond(0)\n",
    "    a_last = 'D'\n",
    "    b_last = 'C'\n",
    "else:\n",
    "    a.respond(0)\n",
    "    b.respond(0)\n",
    "    a_last = 'D'\n",
    "    b_last = 'D'\n"
   ]
  },
  {
   "cell_type": "code",
   "execution_count": null,
   "metadata": {},
   "outputs": [],
   "source": [
    "a.instances()"
   ]
  },
  {
   "cell_type": "markdown",
   "metadata": {},
   "source": [
    "### Multiple agents in group\n",
    "\n",
    "- [x] made agents that can learn from each other's reputation imformation and responde properly\n",
    "- [x] made agents that"
   ]
  },
  {
   "cell_type": "code",
   "execution_count": null,
   "metadata": {},
   "outputs": [],
   "source": [
    "import random\n",
    "import pyibl"
   ]
  },
  {
   "cell_type": "code",
   "execution_count": null,
   "metadata": {},
   "outputs": [],
   "source": [
    "\n",
    "agents = [pyibl.Agent( name,[\"button\", \"reputation\"], default_utility=5 ) for name in \"0123456\" ]\n",
    "cooperate_CC = { \"button\": \"cooperate\", \"reputation\": 'CC' }\n",
    "cooperate_CD = { \"button\": \"cooperate\", \"reputation\": 'CD' }\n",
    "cooperate_DC = { \"button\": \"cooperate\", \"reputation\": 'DC' }\n",
    "cooperate_DD = { \"button\": \"cooperate\", \"reputation\": 'DD' }\n",
    "defect_CC = { \"button\": \"defect\", \"reputation\": 'CC' }\n",
    "defect_CD = { \"button\": \"defect\", \"reputation\": 'CD' }\n",
    "defect_DC = { \"button\": \"defect\", \"reputation\": 'DC' }\n",
    "defect_DD = { \"button\": \"defect\", \"reputation\": 'DD' }"
   ]
  },
  {
   "cell_type": "code",
   "execution_count": null,
   "metadata": {},
   "outputs": [],
   "source": [
    "#initialize first move \n",
    "for n in range(0,7): #0-6\n",
    "    globals()[f'last_move_{n}'] = random.choice('CD')"
   ]
  },
  {
   "cell_type": "code",
   "execution_count": null,
   "metadata": {},
   "outputs": [],
   "source": [
    "#paring \n",
    "pairing = [[(0,1), (1,2),(2,3)]] #double []!!"
   ]
  },
  {
   "cell_type": "code",
   "execution_count": null,
   "metadata": {},
   "outputs": [],
   "source": [
    "# find two agents\n",
    "for p in random.choice(pairing):\n",
    "    a = agents[p[0]]\n",
    "    b = agents[p[1]]\n",
    "    # also find their last move\n",
    "    a_last = globals()[f'last_move_{p[0]}']\n",
    "    b_last = globals()[f'last_move_{p[1]}']\n",
    "\n",
    "    last_round = a_last+b_last\n",
    "    # make new choice based on past repuation\n",
    "    if last_round == 'CC':\n",
    "        result_a = a.choose(cooperate_CC, defect_CC)\n",
    "        result_b = b.choose(cooperate_CC, defect_CC)\n",
    "    elif last_round == 'CD':\n",
    "        result_a = a.choose(cooperate_CD, defect_CD)\n",
    "        result_b = b.choose(cooperate_CD, defect_CD)\n",
    "    elif last_round == 'DC':\n",
    "        result_a = a.choose(cooperate_DC, defect_DC)\n",
    "        result_b = b.choose(cooperate_DC, defect_DC)\n",
    "    else:\n",
    "        result_a = a.choose(cooperate_DD, defect_DD)\n",
    "        result_b = b.choose(cooperate_DD, defect_DD)\n",
    "    \n",
    "    # update result\n",
    "    pair_result = (result_a['button'],result_b['button'])\n",
    "\n",
    "    if pair_result == ('cooperate', 'cooperate'):\n",
    "        a.respond(5)\n",
    "        b.respond(5)\n",
    "        a_last = 'C'\n",
    "        b_last = 'C'\n",
    "        \n",
    "    elif pair_result == ('cooperate', 'defect'):\n",
    "        a.respond(0)\n",
    "        b.respond(5)\n",
    "        a_last = 'C'\n",
    "        b_last = 'D'\n",
    "    elif pair_result == ('defect', 'cooperate'):\n",
    "        a.respond(5)\n",
    "        b.respond(0)\n",
    "        a_last = 'D'\n",
    "        b_last = 'C'\n",
    "    else:\n",
    "        a.respond(0)\n",
    "        b.respond(0)\n",
    "        a_last = 'D'\n",
    "        b_last = 'D'\n",
    "    \n",
    "    globals()[f'last_move_{p[0]}'] = a_last\n",
    "    globals()[f'last_move_{p[1]}'] = b_last\n"
   ]
  },
  {
   "cell_type": "code",
   "execution_count": null,
   "metadata": {},
   "outputs": [],
   "source": [
    "agents[0].instances()"
   ]
  },
  {
   "cell_type": "code",
   "execution_count": null,
   "metadata": {},
   "outputs": [],
   "source": [
    "# find out how the p unpack\n",
    "\n",
    "for p in random.choice(pairing):\n",
    "    print(p)\n",
    "    "
   ]
  },
  {
   "cell_type": "code",
   "execution_count": null,
   "metadata": {},
   "outputs": [],
   "source": [
    "def play_round():\n",
    "    #find two agents\n",
    "\n",
    "    #make them play round \n",
    "\n",
    "    #"
   ]
  },
  {
   "cell_type": "code",
   "execution_count": null,
   "metadata": {},
   "outputs": [],
   "source": [
    "last_round = a_last+b_last\n",
    "if last_round == 'CC':\n",
    "    result_a = a.choose(cooperate_CC,defect_CC)\n",
    "    result_b = b.choose(cooperate_CC,defect_CC)\n",
    "elif last_round == 'CD':\n",
    "    result_a = a.choose(cooperate_CD,defect_CD)\n",
    "    result_b = b.choose(cooperate_CD,defect_CD)\n",
    "elif last_round == 'DC':\n",
    "    result_a = a.choose(cooperate_DC,defect_DC)\n",
    "    result_b = b.choose(cooperate_DC,defect_DC)\n",
    "else:\n",
    "    result_a = a.choose(cooperate_DD,defect_DD)\n",
    "    result_b = b.choose(cooperate_DD,defect_DD)\n",
    "\n",
    "\n",
    "pair_result = (result_a['button'],result_b['button'])\n",
    "\n",
    "if pair_result == ('cooperate', 'cooperate'):\n",
    "    a.respond(5)\n",
    "    b.respond(5)\n",
    "    a_last = 'C'\n",
    "    b_last = 'C'\n",
    "    \n",
    "elif pair_result == ('cooperate', 'defect'):\n",
    "    a.respond(0)\n",
    "    b.respond(5)\n",
    "    a_last = 'C'\n",
    "    b_last = 'D'\n",
    "elif pair_result == ('defect', 'cooperate'):\n",
    "    a.respond(5)\n",
    "    b.respond(0)\n",
    "    a_last = 'D'\n",
    "    b_last = 'C'\n",
    "else:\n",
    "    a.respond(0)\n",
    "    b.respond(0)\n",
    "    a_last = 'D'\n",
    "    b_last = 'D'\n"
   ]
  },
  {
   "cell_type": "code",
   "execution_count": null,
   "metadata": {},
   "outputs": [],
   "source": []
  },
  {
   "cell_type": "code",
   "execution_count": null,
   "metadata": {},
   "outputs": [],
   "source": []
  },
  {
   "cell_type": "code",
   "execution_count": null,
   "metadata": {},
   "outputs": [],
   "source": []
  },
  {
   "cell_type": "code",
   "execution_count": null,
   "metadata": {},
   "outputs": [],
   "source": []
  },
  {
   "cell_type": "code",
   "execution_count": null,
   "metadata": {},
   "outputs": [],
   "source": [
    "#a.respond(2)\n",
    "#b.respond(2)\n",
    "#result_a\n",
    "pair_result"
   ]
  },
  {
   "cell_type": "code",
   "execution_count": null,
   "metadata": {},
   "outputs": [],
   "source": []
  },
  {
   "cell_type": "code",
   "execution_count": null,
   "metadata": {},
   "outputs": [],
   "source": [
    "a.instances()"
   ]
  },
  {
   "cell_type": "code",
   "execution_count": null,
   "metadata": {},
   "outputs": [],
   "source": []
  },
  {
   "cell_type": "markdown",
   "metadata": {},
   "source": [
    "### Attributes"
   ]
  },
  {
   "cell_type": "code",
   "execution_count": null,
   "metadata": {},
   "outputs": [],
   "source": [
    "pair_result"
   ]
  },
  {
   "cell_type": "code",
   "execution_count": null,
   "metadata": {},
   "outputs": [],
   "source": [
    "# create agents\n",
    "a = pyibl.Agent(\"Agent_a\", [\"button\", \"reputation\"], default_utility=5)\n",
    "b = pyibl.Agent(\"Agent_b\", [\"button\", \"reputation\"], default_utility=5)"
   ]
  },
  {
   "cell_type": "code",
   "execution_count": null,
   "metadata": {},
   "outputs": [],
   "source": [
    "# create detail for attributes\n",
    "cooperate = { \"button\": \"cooperate\", \"reputation\": 'C' }\n",
    "defect = { \"button\": \"defect\", \"reputation\": 'D' }"
   ]
  },
  {
   "cell_type": "code",
   "execution_count": null,
   "metadata": {},
   "outputs": [],
   "source": [
    "a.attributes[1]"
   ]
  },
  {
   "cell_type": "code",
   "execution_count": null,
   "metadata": {},
   "outputs": [],
   "source": [
    "# make choice and unpack decisions\n",
    "result_a = a.choose(cooperate, defect)\n",
    "result_b = b.choose(cooperate, defect)\n",
    "self_choice = result_a['button']\n",
    "self_rep = result_a['reputation']\n",
    "alter_chocie = result_b['button']\n",
    "alter_rep = result_b['reputation']"
   ]
  },
  {
   "cell_type": "code",
   "execution_count": null,
   "metadata": {},
   "outputs": [],
   "source": [
    "(self_choice, alter_chocie, self_rep, alter_rep)"
   ]
  },
  {
   "cell_type": "code",
   "execution_count": null,
   "metadata": {},
   "outputs": [],
   "source": [
    "a.instances()"
   ]
  },
  {
   "cell_type": "code",
   "execution_count": null,
   "metadata": {},
   "outputs": [],
   "source": [
    "cooperate['reputation']='C'\n",
    "cooperate"
   ]
  },
  {
   "cell_type": "code",
   "execution_count": null,
   "metadata": {},
   "outputs": [],
   "source": [
    "cooperate[\"reputation\"] = 'C'\n",
    "cooperate"
   ]
  },
  {
   "cell_type": "code",
   "execution_count": null,
   "metadata": {},
   "outputs": [],
   "source": [
    "a.reset()\n",
    "b.reset()"
   ]
  },
  {
   "cell_type": "code",
   "execution_count": null,
   "metadata": {},
   "outputs": [],
   "source": [
    "def make_choice():\n",
    "    result_a = a.choose(cooperate_a, defect_a)\n",
    "    result_b = b.choose(cooperate_b, defect_b)\n",
    "    self_choice = result_a['botton']\n",
    "    self_rep = result_a['reputation']\n",
    "    alter_chocie = result_b['botton']\n",
    "    alter_rep = result_b['reputation']\n",
    "    if (self_choice,alter_chocie) == ('cooperate','cooperate'):\n",
    "        a.respond(5)\n",
    "        b.respond(5)\n",
    "        \n",
    "    a.respond(2)\n",
    "    return result\n"
   ]
  },
  {
   "cell_type": "code",
   "execution_count": null,
   "metadata": {},
   "outputs": [],
   "source": [
    "b = make_choice()\n",
    "b['reputation']"
   ]
  },
  {
   "cell_type": "code",
   "execution_count": null,
   "metadata": {},
   "outputs": [],
   "source": [
    "a.instances()"
   ]
  },
  {
   "cell_type": "markdown",
   "metadata": {},
   "source": [
    "## Learning Rep properly\n"
   ]
  },
  {
   "cell_type": "code",
   "execution_count": 6,
   "metadata": {},
   "outputs": [],
   "source": [
    "import random\n",
    "import pyibl"
   ]
  },
  {
   "cell_type": "code",
   "execution_count": 7,
   "metadata": {},
   "outputs": [],
   "source": [
    "\n",
    "agents = [pyibl.Agent( name,[\"button\", \"reputation\"], default_utility=5 ) for name in \"012345\" ]\n",
    "cooperate_CC = { \"button\": \"cooperate\", \"reputation\": 'CC' }\n",
    "cooperate_CD = { \"button\": \"cooperate\", \"reputation\": 'CD' }\n",
    "cooperate_DC = { \"button\": \"cooperate\", \"reputation\": 'DC' }\n",
    "cooperate_DD = { \"button\": \"cooperate\", \"reputation\": 'DD' }\n",
    "defect_CC = { \"button\": \"defect\", \"reputation\": 'CC' }\n",
    "defect_CD = { \"button\": \"defect\", \"reputation\": 'CD' }\n",
    "defect_DC = { \"button\": \"defect\", \"reputation\": 'DC' }\n",
    "defect_DD = { \"button\": \"defect\", \"reputation\": 'DD' }"
   ]
  },
  {
   "cell_type": "code",
   "execution_count": 8,
   "metadata": {},
   "outputs": [],
   "source": [
    "#initialize first move \n",
    "last_move = ['o'] * 6\n",
    "for i in range(6):\n",
    "    last_move[i] = 'C'#random.choice('CD')"
   ]
  },
  {
   "cell_type": "code",
   "execution_count": 9,
   "metadata": {},
   "outputs": [],
   "source": [
    "#paring \n",
    "pairing = [[(0,1), (0,2),(0,3),(0,4),(1,0),(1,2),(1,3),(1,4)]] #double []!!"
   ]
  },
  {
   "cell_type": "code",
   "execution_count": 10,
   "metadata": {},
   "outputs": [
    {
     "name": "stdout",
     "output_type": "stream",
     "text": [
      "a_rep 0 C b_rep 1 C\n",
      "choice ('defect', 'defect') rep CC\n",
      "(0, 1) reputation of this step D D\n",
      "a_rep 0 D b_rep 2 C\n",
      "choice ('cooperate', 'cooperate') rep DC\n",
      "(0, 2) reputation of this step C C\n",
      "a_rep 0 C b_rep 3 C\n",
      "choice ('cooperate', 'cooperate') rep CC\n",
      "(0, 3) reputation of this step C C\n",
      "a_rep 0 C b_rep 4 C\n",
      "choice ('cooperate', 'defect') rep CC\n",
      "(0, 4) reputation of this step C D\n",
      "a_rep 1 D b_rep 0 C\n",
      "choice ('defect', 'cooperate') rep DC\n",
      "(1, 0) reputation of this step D C\n",
      "a_rep 1 D b_rep 2 C\n",
      "choice ('defect', 'cooperate') rep DC\n",
      "(1, 2) reputation of this step D C\n",
      "a_rep 1 D b_rep 3 C\n",
      "choice ('cooperate', 'cooperate') rep DC\n",
      "(1, 3) reputation of this step C C\n",
      "a_rep 1 C b_rep 4 D\n",
      "choice ('cooperate', 'cooperate') rep CD\n",
      "(1, 4) reputation of this step C C\n"
     ]
    }
   ],
   "source": [
    "# find two agents\n",
    "for p in random.choice(pairing):\n",
    "    a = agents[p[0]]\n",
    "    b = agents[p[1]]\n",
    "    # also find their last move\n",
    "    a_last = last_move[p[0]]\n",
    "    b_last = last_move[p[1]]\n",
    "\n",
    "    print('a_rep',a,a_last, 'b_rep',b,b_last)\n",
    "\n",
    "    last_round = a_last+b_last\n",
    "    # make new choice based on past repuation\n",
    "    if last_round == 'CC':\n",
    "        result_a = a.choose(cooperate_CC, defect_CC)\n",
    "        result_b = b.choose(cooperate_CC, defect_CC)\n",
    "    elif last_round == 'CD':\n",
    "        result_a = a.choose(cooperate_CD, defect_CD)\n",
    "        result_b = b.choose(cooperate_DC, defect_DC)\n",
    "    elif last_round == 'DC':\n",
    "        result_a = a.choose(cooperate_DC, defect_DC)\n",
    "        result_b = b.choose(cooperate_CD, defect_CD) #bug!\n",
    "    else:\n",
    "        result_a = a.choose(cooperate_DD, defect_DD)\n",
    "        result_b = b.choose(cooperate_DD, defect_DD)\n",
    "    \n",
    "    # update result\n",
    "    pair_result = (result_a['button'],result_b['button'])\n",
    "    print('choice',pair_result,'rep',last_round)\n",
    "\n",
    "    if pair_result == ('cooperate', 'cooperate'):\n",
    "        a.respond(5)\n",
    "        b.respond(5)\n",
    "        a_last = 'C'\n",
    "        b_last = 'C'\n",
    "        \n",
    "    elif pair_result == ('cooperate', 'defect'):\n",
    "        a.respond(0)\n",
    "        b.respond(5)\n",
    "        a_last = 'C'\n",
    "        b_last = 'D'\n",
    "    elif pair_result == ('defect', 'cooperate'):\n",
    "        a.respond(5)\n",
    "        b.respond(0)\n",
    "        a_last = 'D'\n",
    "        b_last = 'C'\n",
    "    else:\n",
    "        a.respond(0)\n",
    "        b.respond(0)\n",
    "        a_last = 'D'\n",
    "        b_last = 'D'\n",
    "    \n",
    "    last_move[p[0]] = a_last \n",
    "    last_move[p[1]] = b_last\n",
    "    print(p,'reputation used in this step', last_round )\n",
    "    print(p,'reputation generated in this step', last_move[p[0]],last_move[p[1]])"
   ]
  },
  {
   "cell_type": "code",
   "execution_count": null,
   "metadata": {},
   "outputs": [],
   "source": [
    "agents[0].instances()"
   ]
  },
  {
   "cell_type": "markdown",
   "metadata": {},
   "source": [
    "# networkX"
   ]
  },
  {
   "cell_type": "markdown",
   "metadata": {},
   "source": []
  },
  {
   "cell_type": "markdown",
   "metadata": {},
   "source": [
    "Let's see if average path length is actually meaningful in a cluster of 6"
   ]
  },
  {
   "cell_type": "code",
   "execution_count": null,
   "metadata": {},
   "outputs": [],
   "source": [
    "import networkx as nx\n",
    "import matplotlib as plt"
   ]
  },
  {
   "cell_type": "code",
   "execution_count": null,
   "metadata": {},
   "outputs": [],
   "source": [
    "G = nx.complete_graph(6)\n",
    "nx.drawing.circular_layout(G)\n",
    "nx.draw(G)\n",
    "\n"
   ]
  },
  {
   "cell_type": "code",
   "execution_count": null,
   "metadata": {},
   "outputs": [],
   "source": [
    "import numpy as np"
   ]
  },
  {
   "cell_type": "markdown",
   "metadata": {},
   "source": []
  },
  {
   "cell_type": "code",
   "execution_count": null,
   "metadata": {},
   "outputs": [],
   "source": [
    "def adjacent_edges(nodes, halfk):\n",
    "    \"\"\"Yields edges between each node and `halfk` neighbors.\n",
    "    \n",
    "    halfk: number of edges from each node\n",
    "    \"\"\"\n",
    "    n = len(nodes)\n",
    "    for i, u in enumerate(nodes):\n",
    "        for j in range(i+1, i+halfk+1):\n",
    "            v = nodes[j % n]\n",
    "            yield u, v\n",
    "            \n",
    "def make_ring_lattice(n, k):\n",
    "    \"\"\"Makes a ring lattice with `n` nodes and degree `k`.\n",
    "    \n",
    "    Note: this only works correctly if k is even.\n",
    "    \n",
    "    n: number of nodes\n",
    "    k: degree of each node\n",
    "    \"\"\"\n",
    "    G = nx.Graph()\n",
    "    nodes = range(n)\n",
    "    G.add_nodes_from(nodes)\n",
    "    G.add_edges_from(adjacent_edges(nodes, k//2))\n",
    "    return G\n",
    "\n",
    "#rewire to make WS graph from ring lattice, scr: ThinkComplexity2\n",
    "def rewire(G, p):\n",
    "    \"\"\"Rewires each edge with probability `p`.\n",
    "    \n",
    "    G: Graph\n",
    "    p: float\n",
    "    \"\"\"\n",
    "    nodes = set(G)\n",
    "    for u, v in G.edges():\n",
    "        if flip(p):\n",
    "            choices = nodes - {u} - set(G[u])\n",
    "            new_v = np.random.choice(list(choices))\n",
    "            G.remove_edge(u, v)\n",
    "            G.add_edge(u, new_v)\n",
    "\n",
    "def make_ws_graph(n, k, p):\n",
    "    \"\"\"Makes a Watts-Strogatz graph.\n",
    "    \n",
    "    n: number of nodes\n",
    "    k: degree of each node\n",
    "    p: probability of rewiring an edge\n",
    "    \"\"\"\n",
    "\n",
    "    ws = make_ring_lattice(n, k)\n",
    "    rewire(ws, p)\n",
    "    return ws\n",
    "\n",
    "def flip(p):\n",
    "    \"\"\"Returns True with probability `p`.\"\"\"\n",
    "    return np.random.random() < p"
   ]
  },
  {
   "cell_type": "code",
   "execution_count": null,
   "metadata": {},
   "outputs": [],
   "source": [
    "G2 = make_ring_lattice(50,4)"
   ]
  },
  {
   "cell_type": "code",
   "execution_count": null,
   "metadata": {},
   "outputs": [],
   "source": [
    "nx.drawing.circular_layout(G2)\n",
    "nx.draw(G2)\n",
    "nx.average_shortest_path_length(G2)"
   ]
  },
  {
   "cell_type": "markdown",
   "metadata": {},
   "source": []
  },
  {
   "cell_type": "code",
   "execution_count": null,
   "metadata": {},
   "outputs": [],
   "source": [
    "G3=  make_ws_graph(50, 4, 0.55)\n",
    "nx.drawing.circular_layout(G3)\n",
    "nx.draw(G3)\n",
    "nx.average_shortest_path_length(G3)"
   ]
  }
 ],
 "metadata": {
  "interpreter": {
   "hash": "aff9df1755635ce4714164c8c4a20bd8109c870f0a93ff0490634f44c044b7f8"
  },
  "kernelspec": {
   "display_name": "Python 3.7.11 64-bit ('DDML': conda)",
   "name": "python3"
  },
  "language_info": {
   "codemirror_mode": {
    "name": "ipython",
    "version": 3
   },
   "file_extension": ".py",
   "mimetype": "text/x-python",
   "name": "python",
   "nbconvert_exporter": "python",
   "pygments_lexer": "ipython3",
   "version": "3.7.11"
  },
  "orig_nbformat": 4
 },
 "nbformat": 4,
 "nbformat_minor": 2
}
