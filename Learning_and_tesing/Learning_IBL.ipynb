{
 "cells": [
  {
   "cell_type": "markdown",
   "metadata": {},
   "source": [
    "## 1 - Single agents"
   ]
  },
  {
   "cell_type": "code",
   "execution_count": null,
   "metadata": {},
   "outputs": [],
   "source": [
    "import pyibl"
   ]
  },
  {
   "cell_type": "code",
   "execution_count": null,
   "metadata": {},
   "outputs": [],
   "source": [
    "a = pyibl.Agent(\"My Agent\")\n",
    "# a.default_utility = 10.0\n",
    "# a.choose(\"The Green Button\", \"The Red Button\")\n",
    "# a.respond(1.0)  #consequence of the pay-off update associate with Green Button\n",
    "def choose_and_respond():\n",
    "        result = a.choose(\"The Green Button\", \"The Red Button\")\n",
    "        if result == \"The Green Button\":\n",
    "            a.respond(1.0)\n",
    "        else:\n",
    "            a.respond(-2.0)\n",
    "        return result\n",
    "\n",
    "choose_and_respond()\n",
    "a.reset()\n",
    "results = { \"The Green Button\" : 0, \"The Red Button\" : 0 }\n",
    "\n",
    "for i in range(1000):\n",
    "    results[choose_and_respond()] += 1\n",
    "\n",
    "results\n",
    "\n",
    "def choose_and_respond(choices):\n",
    "\tresult = a.choose(*choices)\n",
    "\ta.respond(choices[result])\n",
    "\treturn result\n",
    "\n",
    "choices = { \"green\": -5, \"blue\": 0, \"yellow\": -4, \"red\": -6, \"violet\": 0 }\n",
    "\n",
    "results = { k: 0 for k in choices }\n",
    "\n",
    "for i in range(1000):\n",
    "    results[choose_and_respond(choices)] += 1\n",
    "\n",
    "results"
   ]
  },
  {
   "cell_type": "code",
   "execution_count": null,
   "metadata": {},
   "outputs": [],
   "source": [
    "list_A = [i for i in \"abcde\"]\n",
    "list_A"
   ]
  },
  {
   "cell_type": "code",
   "execution_count": null,
   "metadata": {},
   "outputs": [],
   "source": [
    "a = pyibl.Agent(\"My Agent\")\n",
    "a.default_utility = 10\n"
   ]
  },
  {
   "cell_type": "code",
   "execution_count": null,
   "metadata": {},
   "outputs": [],
   "source": [
    "result = a.choose(\"The Green Button\", \"The Red Button\")\n",
    "result"
   ]
  },
  {
   "cell_type": "code",
   "execution_count": null,
   "metadata": {},
   "outputs": [],
   "source": [
    "a.respond(2)"
   ]
  },
  {
   "cell_type": "code",
   "execution_count": null,
   "metadata": {},
   "outputs": [],
   "source": [
    "import inspect\n",
    "method_names = [attr for attr in dir(a) if inspect.ismethod(getattr(a, attr))]\n",
    "method_names"
   ]
  },
  {
   "cell_type": "code",
   "execution_count": null,
   "metadata": {},
   "outputs": [],
   "source": [
    "a.__dict__"
   ]
  },
  {
   "cell_type": "markdown",
   "metadata": {},
   "source": [
    "## 2 - Multiple Agents"
   ]
  },
  {
   "cell_type": "markdown",
   "metadata": {},
   "source": [
    "### simple multiple agents"
   ]
  },
  {
   "cell_type": "code",
   "execution_count": null,
   "metadata": {},
   "outputs": [],
   "source": [
    "import pyibl\n",
    "from pyibl import Agent"
   ]
  },
  {
   "cell_type": "code",
   "execution_count": null,
   "metadata": {},
   "outputs": [],
   "source": [
    "agents = [ Agent(name, default_utility=20) for name in \"ABCDEFGHIJ\" ]"
   ]
  },
  {
   "cell_type": "code",
   "execution_count": null,
   "metadata": {},
   "outputs": [],
   "source": [
    "agents "
   ]
  },
  {
   "cell_type": "code",
   "execution_count": null,
   "metadata": {},
   "outputs": [],
   "source": [
    "choices = [ a.choose('safe', 'risky') for a in agents ]"
   ]
  },
  {
   "cell_type": "code",
   "execution_count": null,
   "metadata": {},
   "outputs": [],
   "source": [
    "risky = [ a.name for a, c in zip(agents, choices) if c == 'risky' ]\n",
    "risky"
   ]
  },
  {
   "cell_type": "code",
   "execution_count": null,
   "metadata": {},
   "outputs": [],
   "source": [
    "reward = 7 / len(risky)"
   ]
  },
  {
   "cell_type": "code",
   "execution_count": null,
   "metadata": {},
   "outputs": [],
   "source": [
    "by_agent = [0]*len(agents)\n",
    "by_agent\n",
    "'a' in 'abcd'"
   ]
  },
  {
   "cell_type": "markdown",
   "metadata": {},
   "source": [
    "### trying attributes"
   ]
  },
  {
   "cell_type": "code",
   "execution_count": null,
   "metadata": {},
   "outputs": [],
   "source": [
    "import pyibl"
   ]
  },
  {
   "cell_type": "code",
   "execution_count": null,
   "metadata": {},
   "outputs": [],
   "source": [
    "a = pyibl.Agent(\"My Agent\", [\"button\", \"reputation\"], default_utility=5)\n",
    "# cooperate = { \"button\": \"cooperate\", \"reputation\": 'C' }\n",
    "# defect = { \"button\": \"defect\", \"reputation\": 'D' }\n"
   ]
  },
  {
   "cell_type": "code",
   "execution_count": null,
   "metadata": {},
   "outputs": [],
   "source": [
    "result = a.choose('cooperate', 'defect')\n",
    "result\n",
    "a.respond(2)"
   ]
  },
  {
   "cell_type": "code",
   "execution_count": null,
   "metadata": {},
   "outputs": [],
   "source": []
  },
  {
   "cell_type": "code",
   "execution_count": null,
   "metadata": {},
   "outputs": [],
   "source": [
    "result = a.choose(cooperate, defect)\n",
    "if result['button'] == 'cooperate':\n",
    "    \n",
    "    a.respond(5)\n",
    "else:\n",
    "    a.respond(0)\n",
    "result"
   ]
  },
  {
   "cell_type": "code",
   "execution_count": null,
   "metadata": {},
   "outputs": [],
   "source": [
    "a.instances()"
   ]
  },
  {
   "cell_type": "code",
   "execution_count": null,
   "metadata": {},
   "outputs": [],
   "source": [
    "a.reset()"
   ]
  },
  {
   "cell_type": "code",
   "execution_count": null,
   "metadata": {},
   "outputs": [],
   "source": []
  },
  {
   "cell_type": "markdown",
   "metadata": {},
   "source": [
    "### Two agent situation "
   ]
  },
  {
   "cell_type": "code",
   "execution_count": null,
   "metadata": {},
   "outputs": [],
   "source": [
    "# don't have to make binary choice\n",
    "a = pyibl.Agent(\"Agent_a\",default_utility=5)\n",
    "for i in range(10):\n",
    "    a.choose('a','b','c','d','e')\n",
    "    a.respond(2)\n",
    "a.instances()\n"
   ]
  },
  {
   "cell_type": "code",
   "execution_count": null,
   "metadata": {},
   "outputs": [],
   "source": [
    "import pyibl\n",
    "a = pyibl.Agent(\"Agent_a\",[\"button\", \"reputation\"],default_utility=5)\n",
    "b = pyibl.Agent(\"Agent_b\", [\"button\", \"reputation\"],default_utility=5)"
   ]
  },
  {
   "cell_type": "code",
   "execution_count": null,
   "metadata": {},
   "outputs": [],
   "source": [
    "# cooperate_a = { \"button\": \"cooperate\", \"reputation\": 'CC' }\n",
    "# defect_a = { \"button\": \"defect\", \"reputation\": 'CC' }\n",
    "# cooperate_b = { \"button\": \"cooperate\", \"reputation\": 'CC' }\n",
    "# defect_b = { \"button\": \"defect\", \"reputation\": 'CC' }"
   ]
  },
  {
   "cell_type": "code",
   "execution_count": null,
   "metadata": {},
   "outputs": [],
   "source": [
    "#definte agent, attribute and instances\n",
    "a = pyibl.Agent(\"Agent_a\",[\"button\", \"reputation\"],default_utility=5)\n",
    "b = pyibl.Agent(\"Agent_b\",[\"button\", \"reputation\"],default_utility=5)\n",
    "cooperate_CC = { \"button\": \"cooperate\", \"reputation\": 'CC' }\n",
    "cooperate_CD = { \"button\": \"cooperate\", \"reputation\": 'CD' }\n",
    "cooperate_DC = { \"button\": \"cooperate\", \"reputation\": 'DC' }\n",
    "cooperate_DD = { \"button\": \"cooperate\", \"reputation\": 'DD' }\n",
    "defect_CC = { \"button\": \"defect\", \"reputation\": 'CC' }\n",
    "defect_CD = { \"button\": \"defect\", \"reputation\": 'CD' }\n",
    "defect_DC = { \"button\": \"defect\", \"reputation\": 'DC' }\n",
    "defect_DD = { \"button\": \"defect\", \"reputation\": 'DD' }\n"
   ]
  },
  {
   "cell_type": "code",
   "execution_count": null,
   "metadata": {},
   "outputs": [],
   "source": [
    "result_a['reputation']"
   ]
  },
  {
   "cell_type": "code",
   "execution_count": null,
   "metadata": {},
   "outputs": [],
   "source": [
    "\n",
    "\n",
    "result_a = a.choose(cooperate_CC,cooperate_CD,cooperate_DC,defect_CC,defect_CD,defect_DC,defect_DD)\n",
    "result_b = b.choose(cooperate_CC,cooperate_CD,cooperate_DC,defect_CC,defect_CD,defect_DC,defect_DD)\n",
    "\n",
    "pair_result = (result_a['button'],result_b['button'])\n",
    "\n",
    "if pair_result == ('cooperate', 'cooperate'):\n",
    "    a.respond(5)\n",
    "    b.respond(5)\n",
    "\n",
    "    \n",
    "elif pair_result == ('cooperate', 'defect'):\n",
    "    a.respond(0)\n",
    "    b.respond(5)\n",
    "elif pair_result == ('defect', 'cooperate'):\n",
    "    a.respond(5)\n",
    "    b.respond(0)\n",
    "else:\n",
    "    a.respond(0)\n",
    "    b.respond(0)\n"
   ]
  },
  {
   "cell_type": "code",
   "execution_count": null,
   "metadata": {},
   "outputs": [],
   "source": [
    "'a'+'b'"
   ]
  },
  {
   "cell_type": "code",
   "execution_count": null,
   "metadata": {},
   "outputs": [],
   "source": [
    "a_last = 'C'\n",
    "b_last = 'D'"
   ]
  },
  {
   "cell_type": "code",
   "execution_count": null,
   "metadata": {},
   "outputs": [],
   "source": [
    "last_round = a_last+b_last\n",
    "if last_round == 'CC':\n",
    "    result_a = a.choose(cooperate_CC,defect_CC)\n",
    "    result_b = b.choose(cooperate_CC,defect_CC)\n",
    "elif last_round == 'CD':\n",
    "    result_a = a.choose(cooperate_CD,defect_CD)\n",
    "    result_b = b.choose(cooperate_CD,defect_CD)\n",
    "elif last_round == 'DC':\n",
    "    result_a = a.choose(cooperate_DC,defect_DC)\n",
    "    result_b = b.choose(cooperate_DC,defect_DC)\n",
    "else:\n",
    "    result_a = a.choose(cooperate_DD,defect_DD)\n",
    "    result_b = b.choose(cooperate_DD,defect_DD)\n",
    "\n",
    "\n",
    "pair_result = (result_a['button'],result_b['button'])\n",
    "\n",
    "if pair_result == ('cooperate', 'cooperate'):\n",
    "    a.respond(5)\n",
    "    b.respond(5)\n",
    "    a_last = 'C'\n",
    "    b_last = 'C'\n",
    "    \n",
    "elif pair_result == ('cooperate', 'defect'):\n",
    "    a.respond(0)\n",
    "    b.respond(5)\n",
    "    a_last = 'C'\n",
    "    b_last = 'D'\n",
    "elif pair_result == ('defect', 'cooperate'):\n",
    "    a.respond(5)\n",
    "    b.respond(0)\n",
    "    a_last = 'D'\n",
    "    b_last = 'C'\n",
    "else:\n",
    "    a.respond(0)\n",
    "    b.respond(0)\n",
    "    a_last = 'D'\n",
    "    b_last = 'D'\n"
   ]
  },
  {
   "cell_type": "code",
   "execution_count": null,
   "metadata": {},
   "outputs": [],
   "source": [
    "a.instances()"
   ]
  },
  {
   "cell_type": "markdown",
   "metadata": {},
   "source": [
    "## 3- Multiple agents in group\n",
    "\n",
    "- [x] made agents that can learn from each other's reputation imformation and responde properly\n",
    "- [x] made agents that"
   ]
  },
  {
   "cell_type": "code",
   "execution_count": 48,
   "metadata": {},
   "outputs": [],
   "source": [
    "import random\n",
    "import pyibl"
   ]
  },
  {
   "cell_type": "markdown",
   "metadata": {},
   "source": [
    "### 1) test on paired agents\n",
    "- [x] test instance\n",
    "- [x] test agent creation\n",
    "- [x] test on a small list of agent pairs \n",
    "\n",
    "*Note that the reputation learning here is version 1."
   ]
  },
  {
   "cell_type": "code",
   "execution_count": 49,
   "metadata": {},
   "outputs": [],
   "source": [
    "\n",
    "agents = [pyibl.Agent( name,[\"button\", \"reputation\"], default_utility=5 ) for name in \"0123456\" ]\n",
    "cooperate_CC = { \"button\": \"cooperate\", \"reputation\": 'CC' }\n",
    "cooperate_CD = { \"button\": \"cooperate\", \"reputation\": 'CD' }\n",
    "cooperate_DC = { \"button\": \"cooperate\", \"reputation\": 'DC' }\n",
    "cooperate_DD = { \"button\": \"cooperate\", \"reputation\": 'DD' }\n",
    "defect_CC = { \"button\": \"defect\", \"reputation\": 'CC' }\n",
    "defect_CD = { \"button\": \"defect\", \"reputation\": 'CD' }\n",
    "defect_DC = { \"button\": \"defect\", \"reputation\": 'DC' }\n",
    "defect_DD = { \"button\": \"defect\", \"reputation\": 'DD' }"
   ]
  },
  {
   "cell_type": "code",
   "execution_count": 50,
   "metadata": {},
   "outputs": [],
   "source": [
    "#initialize first move \n",
    "for n in range(0,7): #0-6\n",
    "    globals()[f'last_move_{n}'] = random.choice('CD')"
   ]
  },
  {
   "cell_type": "code",
   "execution_count": 51,
   "metadata": {},
   "outputs": [],
   "source": [
    "#paring \n",
    "pairing = [[(0,1), (1,2),(2,3)]] #double []!!"
   ]
  },
  {
   "cell_type": "code",
   "execution_count": 62,
   "metadata": {},
   "outputs": [],
   "source": [
    "# find two agents and PLAY\n",
    "for p in random.choice(pairing):\n",
    "    a = agents[p[0]]\n",
    "    b = agents[p[1]]\n",
    "    # also find their last move\n",
    "    a_last = globals()[f'last_move_{p[0]}']\n",
    "    b_last = globals()[f'last_move_{p[1]}']\n",
    "\n",
    "    last_round = a_last+b_last\n",
    "    # make new choice based on past repuation\n",
    "    if last_round == 'CC':\n",
    "        result_a = a.choose(cooperate_CC, defect_CC)\n",
    "        result_b = b.choose(cooperate_CC, defect_CC)\n",
    "    elif last_round == 'CD':\n",
    "        result_a = a.choose(cooperate_CD, defect_CD)\n",
    "        result_b = b.choose(cooperate_CD, defect_CD)\n",
    "    elif last_round == 'DC':\n",
    "        result_a = a.choose(cooperate_DC, defect_DC)\n",
    "        result_b = b.choose(cooperate_DC, defect_DC)\n",
    "    else:\n",
    "        result_a = a.choose(cooperate_DD, defect_DD)\n",
    "        result_b = b.choose(cooperate_DD, defect_DD)\n",
    "    \n",
    "    # update result\n",
    "    pair_result = (result_a['button'],result_b['button'])\n",
    "\n",
    "    if pair_result == ('cooperate', 'cooperate'):\n",
    "        a.respond(5)\n",
    "        b.respond(5)\n",
    "        a_last = 'C'\n",
    "        b_last = 'C'\n",
    "        \n",
    "    elif pair_result == ('cooperate', 'defect'):\n",
    "        a.respond(0)\n",
    "        b.respond(5)\n",
    "        a_last = 'C'\n",
    "        b_last = 'D'\n",
    "    elif pair_result == ('defect', 'cooperate'):\n",
    "        a.respond(5)\n",
    "        b.respond(0)\n",
    "        a_last = 'D'\n",
    "        b_last = 'C'\n",
    "    else:\n",
    "        a.respond(0)\n",
    "        b.respond(0)\n",
    "        a_last = 'D'\n",
    "        b_last = 'D'\n",
    "    \n",
    "    globals()[f'last_move_{p[0]}'] = a_last\n",
    "    globals()[f'last_move_{p[1]}'] = b_last\n"
   ]
  },
  {
   "cell_type": "markdown",
   "metadata": {},
   "source": [
    "### 2) access `detail` and `instances`"
   ]
  },
  {
   "cell_type": "code",
   "execution_count": 53,
   "metadata": {},
   "outputs": [],
   "source": [
    "agents[0].details = True"
   ]
  },
  {
   "cell_type": "code",
   "execution_count": null,
   "metadata": {},
   "outputs": [],
   "source": [
    "agents[0].instances()"
   ]
  },
  {
   "cell_type": "code",
   "execution_count": 63,
   "metadata": {},
   "outputs": [],
   "source": [
    "import pandas as pd"
   ]
  },
  {
   "cell_type": "code",
   "execution_count": 64,
   "metadata": {},
   "outputs": [
    {
     "data": {
      "text/html": [
       "<div>\n",
       "<style scoped>\n",
       "    .dataframe tbody tr th:only-of-type {\n",
       "        vertical-align: middle;\n",
       "    }\n",
       "\n",
       "    .dataframe tbody tr th {\n",
       "        vertical-align: top;\n",
       "    }\n",
       "\n",
       "    .dataframe thead th {\n",
       "        text-align: right;\n",
       "    }\n",
       "</style>\n",
       "<table border=\"1\" class=\"dataframe\">\n",
       "  <thead>\n",
       "    <tr style=\"text-align: right;\">\n",
       "      <th></th>\n",
       "      <th>0</th>\n",
       "      <th>1</th>\n",
       "    </tr>\n",
       "  </thead>\n",
       "  <tbody>\n",
       "    <tr>\n",
       "      <th>0</th>\n",
       "      <td>{'button': 'cooperate', 'reputation': 'DD', 'a...</td>\n",
       "      <td>{'button': 'defect', 'reputation': 'DD', 'acti...</td>\n",
       "    </tr>\n",
       "    <tr>\n",
       "      <th>1</th>\n",
       "      <td>{'button': 'cooperate', 'reputation': 'DC', 'a...</td>\n",
       "      <td>{'button': 'defect', 'reputation': 'DC', 'acti...</td>\n",
       "    </tr>\n",
       "    <tr>\n",
       "      <th>2</th>\n",
       "      <td>{'button': 'cooperate', 'reputation': 'DD', 'a...</td>\n",
       "      <td>{'button': 'defect', 'reputation': 'DD', 'acti...</td>\n",
       "    </tr>\n",
       "    <tr>\n",
       "      <th>3</th>\n",
       "      <td>{'button': 'cooperate', 'reputation': 'DD', 'a...</td>\n",
       "      <td>{'button': 'defect', 'reputation': 'DD', 'acti...</td>\n",
       "    </tr>\n",
       "    <tr>\n",
       "      <th>4</th>\n",
       "      <td>{'button': 'cooperate', 'reputation': 'CC', 'a...</td>\n",
       "      <td>{'button': 'defect', 'reputation': 'CC', 'acti...</td>\n",
       "    </tr>\n",
       "    <tr>\n",
       "      <th>5</th>\n",
       "      <td>{'button': 'cooperate', 'reputation': 'CD', 'a...</td>\n",
       "      <td>{'button': 'defect', 'reputation': 'CD', 'acti...</td>\n",
       "    </tr>\n",
       "    <tr>\n",
       "      <th>6</th>\n",
       "      <td>{'button': 'cooperate', 'reputation': 'DD', 'a...</td>\n",
       "      <td>{'button': 'defect', 'reputation': 'DD', 'acti...</td>\n",
       "    </tr>\n",
       "    <tr>\n",
       "      <th>7</th>\n",
       "      <td>{'button': 'cooperate', 'reputation': 'DD', 'a...</td>\n",
       "      <td>{'button': 'defect', 'reputation': 'DD', 'acti...</td>\n",
       "    </tr>\n",
       "    <tr>\n",
       "      <th>8</th>\n",
       "      <td>{'button': 'cooperate', 'reputation': 'CD', 'a...</td>\n",
       "      <td>{'button': 'defect', 'reputation': 'CD', 'acti...</td>\n",
       "    </tr>\n",
       "  </tbody>\n",
       "</table>\n",
       "</div>"
      ],
      "text/plain": [
       "                                                   0  \\\n",
       "0  {'button': 'cooperate', 'reputation': 'DD', 'a...   \n",
       "1  {'button': 'cooperate', 'reputation': 'DC', 'a...   \n",
       "2  {'button': 'cooperate', 'reputation': 'DD', 'a...   \n",
       "3  {'button': 'cooperate', 'reputation': 'DD', 'a...   \n",
       "4  {'button': 'cooperate', 'reputation': 'CC', 'a...   \n",
       "5  {'button': 'cooperate', 'reputation': 'CD', 'a...   \n",
       "6  {'button': 'cooperate', 'reputation': 'DD', 'a...   \n",
       "7  {'button': 'cooperate', 'reputation': 'DD', 'a...   \n",
       "8  {'button': 'cooperate', 'reputation': 'CD', 'a...   \n",
       "\n",
       "                                                   1  \n",
       "0  {'button': 'defect', 'reputation': 'DD', 'acti...  \n",
       "1  {'button': 'defect', 'reputation': 'DC', 'acti...  \n",
       "2  {'button': 'defect', 'reputation': 'DD', 'acti...  \n",
       "3  {'button': 'defect', 'reputation': 'DD', 'acti...  \n",
       "4  {'button': 'defect', 'reputation': 'CC', 'acti...  \n",
       "5  {'button': 'defect', 'reputation': 'CD', 'acti...  \n",
       "6  {'button': 'defect', 'reputation': 'DD', 'acti...  \n",
       "7  {'button': 'defect', 'reputation': 'DD', 'acti...  \n",
       "8  {'button': 'defect', 'reputation': 'CD', 'acti...  "
      ]
     },
     "execution_count": 64,
     "metadata": {},
     "output_type": "execute_result"
    }
   ],
   "source": [
    "df = pd.DataFrame(agents[0].details)\n",
    "df"
   ]
  },
  {
   "cell_type": "code",
   "execution_count": 66,
   "metadata": {},
   "outputs": [
    {
     "data": {
      "text/plain": [
       "[[0, 'cooperate', 'DD', 5, 'defect', 'DD', 5],\n",
       " [1, 'cooperate', 'DC', 5.0, 'defect', 'DC', 5.0],\n",
       " [2, 'cooperate', 'DD', 5.0, 'defect', 'DD', 5.0],\n",
       " [3, 'cooperate', 'DD', 5.0, 'defect', 'DD', 0.6866586740980147],\n",
       " [4, 'cooperate', 'CC', 5, 'defect', 'CC', 5],\n",
       " [5, 'cooperate', 'CD', 5, 'defect', 'CD', 5],\n",
       " [6, 'cooperate', 'DD', 2.5327148873006844, 'defect', 'DD', 3.766443594440481],\n",
       " [7,\n",
       "  'cooperate',\n",
       "  'DD',\n",
       "  2.0204195780852268,\n",
       "  'defect',\n",
       "  'DD',\n",
       "  0.5499469096003687],\n",
       " [8, 'cooperate', 'CD', 5.000000000000001, 'defect', 'CD', 0.789813827443406]]"
      ]
     },
     "execution_count": 66,
     "metadata": {},
     "output_type": "execute_result"
    }
   ],
   "source": [
    "#df.iloc[2][1] first iloc[] for row, second [] for column\n",
    "agent_0_list = []\n",
    "for i in range(len(df)):\n",
    "    agent_0_list.append([i, df.iloc[i][0]['button'],df.iloc[i][0]['reputation'],df.iloc[i][0]['blended'],\n",
    "    df.iloc[i][1]['button'],df.iloc[i][1]['reputation'],df.iloc[i][1]['blended']])\n",
    "agent_0_list"
   ]
  },
  {
   "cell_type": "code",
   "execution_count": 67,
   "metadata": {},
   "outputs": [],
   "source": [
    "df_agent0 = pd.DataFrame (agent_0_list)\n",
    "df_agent0.columns = [\"round\",\"cooperate\",\"cooperate_rep\", \"blending_value\",\n",
    "                        \"defect\", \"defect_rep\", \"beldning_value\"]"
   ]
  },
  {
   "cell_type": "code",
   "execution_count": 70,
   "metadata": {},
   "outputs": [
    {
     "data": {
      "text/html": [
       "<div>\n",
       "<style scoped>\n",
       "    .dataframe tbody tr th:only-of-type {\n",
       "        vertical-align: middle;\n",
       "    }\n",
       "\n",
       "    .dataframe tbody tr th {\n",
       "        vertical-align: top;\n",
       "    }\n",
       "\n",
       "    .dataframe thead th {\n",
       "        text-align: right;\n",
       "    }\n",
       "</style>\n",
       "<table border=\"1\" class=\"dataframe\">\n",
       "  <thead>\n",
       "    <tr style=\"text-align: right;\">\n",
       "      <th></th>\n",
       "      <th>participant_cluster</th>\n",
       "      <th>network</th>\n",
       "      <th>round</th>\n",
       "      <th>cooperate</th>\n",
       "      <th>cooperate_rep</th>\n",
       "      <th>blending_value</th>\n",
       "      <th>defect</th>\n",
       "      <th>defect_rep</th>\n",
       "      <th>beldning_value</th>\n",
       "    </tr>\n",
       "  </thead>\n",
       "  <tbody>\n",
       "    <tr>\n",
       "      <th>0</th>\n",
       "      <td>1</td>\n",
       "      <td>disconnedt</td>\n",
       "      <td>0</td>\n",
       "      <td>cooperate</td>\n",
       "      <td>DD</td>\n",
       "      <td>5.000000</td>\n",
       "      <td>defect</td>\n",
       "      <td>DD</td>\n",
       "      <td>5.000000</td>\n",
       "    </tr>\n",
       "    <tr>\n",
       "      <th>1</th>\n",
       "      <td>1</td>\n",
       "      <td>disconnedt</td>\n",
       "      <td>1</td>\n",
       "      <td>cooperate</td>\n",
       "      <td>DC</td>\n",
       "      <td>5.000000</td>\n",
       "      <td>defect</td>\n",
       "      <td>DC</td>\n",
       "      <td>5.000000</td>\n",
       "    </tr>\n",
       "    <tr>\n",
       "      <th>2</th>\n",
       "      <td>1</td>\n",
       "      <td>disconnedt</td>\n",
       "      <td>2</td>\n",
       "      <td>cooperate</td>\n",
       "      <td>DD</td>\n",
       "      <td>5.000000</td>\n",
       "      <td>defect</td>\n",
       "      <td>DD</td>\n",
       "      <td>5.000000</td>\n",
       "    </tr>\n",
       "    <tr>\n",
       "      <th>3</th>\n",
       "      <td>1</td>\n",
       "      <td>disconnedt</td>\n",
       "      <td>3</td>\n",
       "      <td>cooperate</td>\n",
       "      <td>DD</td>\n",
       "      <td>5.000000</td>\n",
       "      <td>defect</td>\n",
       "      <td>DD</td>\n",
       "      <td>0.686659</td>\n",
       "    </tr>\n",
       "    <tr>\n",
       "      <th>4</th>\n",
       "      <td>1</td>\n",
       "      <td>disconnedt</td>\n",
       "      <td>4</td>\n",
       "      <td>cooperate</td>\n",
       "      <td>CC</td>\n",
       "      <td>5.000000</td>\n",
       "      <td>defect</td>\n",
       "      <td>CC</td>\n",
       "      <td>5.000000</td>\n",
       "    </tr>\n",
       "    <tr>\n",
       "      <th>5</th>\n",
       "      <td>1</td>\n",
       "      <td>disconnedt</td>\n",
       "      <td>5</td>\n",
       "      <td>cooperate</td>\n",
       "      <td>CD</td>\n",
       "      <td>5.000000</td>\n",
       "      <td>defect</td>\n",
       "      <td>CD</td>\n",
       "      <td>5.000000</td>\n",
       "    </tr>\n",
       "    <tr>\n",
       "      <th>6</th>\n",
       "      <td>1</td>\n",
       "      <td>disconnedt</td>\n",
       "      <td>6</td>\n",
       "      <td>cooperate</td>\n",
       "      <td>DD</td>\n",
       "      <td>2.532715</td>\n",
       "      <td>defect</td>\n",
       "      <td>DD</td>\n",
       "      <td>3.766444</td>\n",
       "    </tr>\n",
       "    <tr>\n",
       "      <th>7</th>\n",
       "      <td>1</td>\n",
       "      <td>disconnedt</td>\n",
       "      <td>7</td>\n",
       "      <td>cooperate</td>\n",
       "      <td>DD</td>\n",
       "      <td>2.020420</td>\n",
       "      <td>defect</td>\n",
       "      <td>DD</td>\n",
       "      <td>0.549947</td>\n",
       "    </tr>\n",
       "    <tr>\n",
       "      <th>8</th>\n",
       "      <td>1</td>\n",
       "      <td>disconnedt</td>\n",
       "      <td>8</td>\n",
       "      <td>cooperate</td>\n",
       "      <td>CD</td>\n",
       "      <td>5.000000</td>\n",
       "      <td>defect</td>\n",
       "      <td>CD</td>\n",
       "      <td>0.789814</td>\n",
       "    </tr>\n",
       "  </tbody>\n",
       "</table>\n",
       "</div>"
      ],
      "text/plain": [
       "   participant_cluster     network  round  cooperate cooperate_rep  \\\n",
       "0                    1  disconnedt      0  cooperate            DD   \n",
       "1                    1  disconnedt      1  cooperate            DC   \n",
       "2                    1  disconnedt      2  cooperate            DD   \n",
       "3                    1  disconnedt      3  cooperate            DD   \n",
       "4                    1  disconnedt      4  cooperate            CC   \n",
       "5                    1  disconnedt      5  cooperate            CD   \n",
       "6                    1  disconnedt      6  cooperate            DD   \n",
       "7                    1  disconnedt      7  cooperate            DD   \n",
       "8                    1  disconnedt      8  cooperate            CD   \n",
       "\n",
       "   blending_value  defect defect_rep  beldning_value  \n",
       "0        5.000000  defect         DD        5.000000  \n",
       "1        5.000000  defect         DC        5.000000  \n",
       "2        5.000000  defect         DD        5.000000  \n",
       "3        5.000000  defect         DD        0.686659  \n",
       "4        5.000000  defect         CC        5.000000  \n",
       "5        5.000000  defect         CD        5.000000  \n",
       "6        2.532715  defect         DD        3.766444  \n",
       "7        2.020420  defect         DD        0.549947  \n",
       "8        5.000000  defect         CD        0.789814  "
      ]
     },
     "execution_count": 70,
     "metadata": {},
     "output_type": "execute_result"
    }
   ],
   "source": [
    "df_agent0"
   ]
  },
  {
   "cell_type": "code",
   "execution_count": 69,
   "metadata": {},
   "outputs": [],
   "source": [
    "df_agent0.insert(0, \"network\", [\"disconnedt\" for i in range(len(df_agent0))])\n",
    "df_agent0.insert(0, \"participant_cluster\", [1 for i in range(len(df_agent0))])"
   ]
  },
  {
   "cell_type": "code",
   "execution_count": 71,
   "metadata": {},
   "outputs": [],
   "source": [
    "df_agent1 = pd.DataFrame (agent_0_list)\n",
    "df_agent1.columns = [\"round\",\"cooperate\",\"cooperate_rep\", \"blending_value\",\n",
    "                        \"defect\", \"defect_rep\", \"beldning_value\"]\n",
    "df_agent1.insert(0, \"network\", [\"fully_connected\" for i in range(len(df_agent0))])\n",
    "df_agent1.insert(0, \"participant_cluster\", [1 for i in range(len(df_agent0))])"
   ]
  },
  {
   "cell_type": "code",
   "execution_count": 72,
   "metadata": {},
   "outputs": [
    {
     "data": {
      "text/html": [
       "<div>\n",
       "<style scoped>\n",
       "    .dataframe tbody tr th:only-of-type {\n",
       "        vertical-align: middle;\n",
       "    }\n",
       "\n",
       "    .dataframe tbody tr th {\n",
       "        vertical-align: top;\n",
       "    }\n",
       "\n",
       "    .dataframe thead th {\n",
       "        text-align: right;\n",
       "    }\n",
       "</style>\n",
       "<table border=\"1\" class=\"dataframe\">\n",
       "  <thead>\n",
       "    <tr style=\"text-align: right;\">\n",
       "      <th></th>\n",
       "      <th>participant_cluster</th>\n",
       "      <th>network</th>\n",
       "      <th>round</th>\n",
       "      <th>cooperate</th>\n",
       "      <th>cooperate_rep</th>\n",
       "      <th>blending_value</th>\n",
       "      <th>defect</th>\n",
       "      <th>defect_rep</th>\n",
       "      <th>beldning_value</th>\n",
       "    </tr>\n",
       "  </thead>\n",
       "  <tbody>\n",
       "    <tr>\n",
       "      <th>0</th>\n",
       "      <td>1</td>\n",
       "      <td>fully_connected</td>\n",
       "      <td>0</td>\n",
       "      <td>cooperate</td>\n",
       "      <td>DD</td>\n",
       "      <td>5.000000</td>\n",
       "      <td>defect</td>\n",
       "      <td>DD</td>\n",
       "      <td>5.000000</td>\n",
       "    </tr>\n",
       "    <tr>\n",
       "      <th>1</th>\n",
       "      <td>1</td>\n",
       "      <td>fully_connected</td>\n",
       "      <td>1</td>\n",
       "      <td>cooperate</td>\n",
       "      <td>DC</td>\n",
       "      <td>5.000000</td>\n",
       "      <td>defect</td>\n",
       "      <td>DC</td>\n",
       "      <td>5.000000</td>\n",
       "    </tr>\n",
       "    <tr>\n",
       "      <th>2</th>\n",
       "      <td>1</td>\n",
       "      <td>fully_connected</td>\n",
       "      <td>2</td>\n",
       "      <td>cooperate</td>\n",
       "      <td>DD</td>\n",
       "      <td>5.000000</td>\n",
       "      <td>defect</td>\n",
       "      <td>DD</td>\n",
       "      <td>5.000000</td>\n",
       "    </tr>\n",
       "    <tr>\n",
       "      <th>3</th>\n",
       "      <td>1</td>\n",
       "      <td>fully_connected</td>\n",
       "      <td>3</td>\n",
       "      <td>cooperate</td>\n",
       "      <td>DD</td>\n",
       "      <td>5.000000</td>\n",
       "      <td>defect</td>\n",
       "      <td>DD</td>\n",
       "      <td>0.686659</td>\n",
       "    </tr>\n",
       "    <tr>\n",
       "      <th>4</th>\n",
       "      <td>1</td>\n",
       "      <td>fully_connected</td>\n",
       "      <td>4</td>\n",
       "      <td>cooperate</td>\n",
       "      <td>CC</td>\n",
       "      <td>5.000000</td>\n",
       "      <td>defect</td>\n",
       "      <td>CC</td>\n",
       "      <td>5.000000</td>\n",
       "    </tr>\n",
       "    <tr>\n",
       "      <th>5</th>\n",
       "      <td>1</td>\n",
       "      <td>fully_connected</td>\n",
       "      <td>5</td>\n",
       "      <td>cooperate</td>\n",
       "      <td>CD</td>\n",
       "      <td>5.000000</td>\n",
       "      <td>defect</td>\n",
       "      <td>CD</td>\n",
       "      <td>5.000000</td>\n",
       "    </tr>\n",
       "    <tr>\n",
       "      <th>6</th>\n",
       "      <td>1</td>\n",
       "      <td>fully_connected</td>\n",
       "      <td>6</td>\n",
       "      <td>cooperate</td>\n",
       "      <td>DD</td>\n",
       "      <td>2.532715</td>\n",
       "      <td>defect</td>\n",
       "      <td>DD</td>\n",
       "      <td>3.766444</td>\n",
       "    </tr>\n",
       "    <tr>\n",
       "      <th>7</th>\n",
       "      <td>1</td>\n",
       "      <td>fully_connected</td>\n",
       "      <td>7</td>\n",
       "      <td>cooperate</td>\n",
       "      <td>DD</td>\n",
       "      <td>2.020420</td>\n",
       "      <td>defect</td>\n",
       "      <td>DD</td>\n",
       "      <td>0.549947</td>\n",
       "    </tr>\n",
       "    <tr>\n",
       "      <th>8</th>\n",
       "      <td>1</td>\n",
       "      <td>fully_connected</td>\n",
       "      <td>8</td>\n",
       "      <td>cooperate</td>\n",
       "      <td>CD</td>\n",
       "      <td>5.000000</td>\n",
       "      <td>defect</td>\n",
       "      <td>CD</td>\n",
       "      <td>0.789814</td>\n",
       "    </tr>\n",
       "  </tbody>\n",
       "</table>\n",
       "</div>"
      ],
      "text/plain": [
       "   participant_cluster          network  round  cooperate cooperate_rep  \\\n",
       "0                    1  fully_connected      0  cooperate            DD   \n",
       "1                    1  fully_connected      1  cooperate            DC   \n",
       "2                    1  fully_connected      2  cooperate            DD   \n",
       "3                    1  fully_connected      3  cooperate            DD   \n",
       "4                    1  fully_connected      4  cooperate            CC   \n",
       "5                    1  fully_connected      5  cooperate            CD   \n",
       "6                    1  fully_connected      6  cooperate            DD   \n",
       "7                    1  fully_connected      7  cooperate            DD   \n",
       "8                    1  fully_connected      8  cooperate            CD   \n",
       "\n",
       "   blending_value  defect defect_rep  beldning_value  \n",
       "0        5.000000  defect         DD        5.000000  \n",
       "1        5.000000  defect         DC        5.000000  \n",
       "2        5.000000  defect         DD        5.000000  \n",
       "3        5.000000  defect         DD        0.686659  \n",
       "4        5.000000  defect         CC        5.000000  \n",
       "5        5.000000  defect         CD        5.000000  \n",
       "6        2.532715  defect         DD        3.766444  \n",
       "7        2.020420  defect         DD        0.549947  \n",
       "8        5.000000  defect         CD        0.789814  "
      ]
     },
     "execution_count": 72,
     "metadata": {},
     "output_type": "execute_result"
    }
   ],
   "source": [
    "df_agent1"
   ]
  },
  {
   "cell_type": "code",
   "execution_count": 74,
   "metadata": {},
   "outputs": [
    {
     "data": {
      "text/html": [
       "<div>\n",
       "<style scoped>\n",
       "    .dataframe tbody tr th:only-of-type {\n",
       "        vertical-align: middle;\n",
       "    }\n",
       "\n",
       "    .dataframe tbody tr th {\n",
       "        vertical-align: top;\n",
       "    }\n",
       "\n",
       "    .dataframe thead th {\n",
       "        text-align: right;\n",
       "    }\n",
       "</style>\n",
       "<table border=\"1\" class=\"dataframe\">\n",
       "  <thead>\n",
       "    <tr style=\"text-align: right;\">\n",
       "      <th></th>\n",
       "      <th>participant_cluster</th>\n",
       "      <th>network</th>\n",
       "      <th>round</th>\n",
       "      <th>cooperate</th>\n",
       "      <th>cooperate_rep</th>\n",
       "      <th>blending_value</th>\n",
       "      <th>defect</th>\n",
       "      <th>defect_rep</th>\n",
       "      <th>beldning_value</th>\n",
       "    </tr>\n",
       "  </thead>\n",
       "  <tbody>\n",
       "    <tr>\n",
       "      <th>0</th>\n",
       "      <td>1</td>\n",
       "      <td>disconnedt</td>\n",
       "      <td>0</td>\n",
       "      <td>cooperate</td>\n",
       "      <td>DD</td>\n",
       "      <td>5.000000</td>\n",
       "      <td>defect</td>\n",
       "      <td>DD</td>\n",
       "      <td>5.000000</td>\n",
       "    </tr>\n",
       "    <tr>\n",
       "      <th>1</th>\n",
       "      <td>1</td>\n",
       "      <td>disconnedt</td>\n",
       "      <td>1</td>\n",
       "      <td>cooperate</td>\n",
       "      <td>DC</td>\n",
       "      <td>5.000000</td>\n",
       "      <td>defect</td>\n",
       "      <td>DC</td>\n",
       "      <td>5.000000</td>\n",
       "    </tr>\n",
       "    <tr>\n",
       "      <th>2</th>\n",
       "      <td>1</td>\n",
       "      <td>disconnedt</td>\n",
       "      <td>2</td>\n",
       "      <td>cooperate</td>\n",
       "      <td>DD</td>\n",
       "      <td>5.000000</td>\n",
       "      <td>defect</td>\n",
       "      <td>DD</td>\n",
       "      <td>5.000000</td>\n",
       "    </tr>\n",
       "    <tr>\n",
       "      <th>3</th>\n",
       "      <td>1</td>\n",
       "      <td>disconnedt</td>\n",
       "      <td>3</td>\n",
       "      <td>cooperate</td>\n",
       "      <td>DD</td>\n",
       "      <td>5.000000</td>\n",
       "      <td>defect</td>\n",
       "      <td>DD</td>\n",
       "      <td>0.686659</td>\n",
       "    </tr>\n",
       "    <tr>\n",
       "      <th>4</th>\n",
       "      <td>1</td>\n",
       "      <td>disconnedt</td>\n",
       "      <td>4</td>\n",
       "      <td>cooperate</td>\n",
       "      <td>CC</td>\n",
       "      <td>5.000000</td>\n",
       "      <td>defect</td>\n",
       "      <td>CC</td>\n",
       "      <td>5.000000</td>\n",
       "    </tr>\n",
       "    <tr>\n",
       "      <th>5</th>\n",
       "      <td>1</td>\n",
       "      <td>disconnedt</td>\n",
       "      <td>5</td>\n",
       "      <td>cooperate</td>\n",
       "      <td>CD</td>\n",
       "      <td>5.000000</td>\n",
       "      <td>defect</td>\n",
       "      <td>CD</td>\n",
       "      <td>5.000000</td>\n",
       "    </tr>\n",
       "    <tr>\n",
       "      <th>6</th>\n",
       "      <td>1</td>\n",
       "      <td>disconnedt</td>\n",
       "      <td>6</td>\n",
       "      <td>cooperate</td>\n",
       "      <td>DD</td>\n",
       "      <td>2.532715</td>\n",
       "      <td>defect</td>\n",
       "      <td>DD</td>\n",
       "      <td>3.766444</td>\n",
       "    </tr>\n",
       "    <tr>\n",
       "      <th>7</th>\n",
       "      <td>1</td>\n",
       "      <td>disconnedt</td>\n",
       "      <td>7</td>\n",
       "      <td>cooperate</td>\n",
       "      <td>DD</td>\n",
       "      <td>2.020420</td>\n",
       "      <td>defect</td>\n",
       "      <td>DD</td>\n",
       "      <td>0.549947</td>\n",
       "    </tr>\n",
       "    <tr>\n",
       "      <th>8</th>\n",
       "      <td>1</td>\n",
       "      <td>disconnedt</td>\n",
       "      <td>8</td>\n",
       "      <td>cooperate</td>\n",
       "      <td>CD</td>\n",
       "      <td>5.000000</td>\n",
       "      <td>defect</td>\n",
       "      <td>CD</td>\n",
       "      <td>0.789814</td>\n",
       "    </tr>\n",
       "    <tr>\n",
       "      <th>0</th>\n",
       "      <td>1</td>\n",
       "      <td>fully_connected</td>\n",
       "      <td>0</td>\n",
       "      <td>cooperate</td>\n",
       "      <td>DD</td>\n",
       "      <td>5.000000</td>\n",
       "      <td>defect</td>\n",
       "      <td>DD</td>\n",
       "      <td>5.000000</td>\n",
       "    </tr>\n",
       "    <tr>\n",
       "      <th>1</th>\n",
       "      <td>1</td>\n",
       "      <td>fully_connected</td>\n",
       "      <td>1</td>\n",
       "      <td>cooperate</td>\n",
       "      <td>DC</td>\n",
       "      <td>5.000000</td>\n",
       "      <td>defect</td>\n",
       "      <td>DC</td>\n",
       "      <td>5.000000</td>\n",
       "    </tr>\n",
       "    <tr>\n",
       "      <th>2</th>\n",
       "      <td>1</td>\n",
       "      <td>fully_connected</td>\n",
       "      <td>2</td>\n",
       "      <td>cooperate</td>\n",
       "      <td>DD</td>\n",
       "      <td>5.000000</td>\n",
       "      <td>defect</td>\n",
       "      <td>DD</td>\n",
       "      <td>5.000000</td>\n",
       "    </tr>\n",
       "    <tr>\n",
       "      <th>3</th>\n",
       "      <td>1</td>\n",
       "      <td>fully_connected</td>\n",
       "      <td>3</td>\n",
       "      <td>cooperate</td>\n",
       "      <td>DD</td>\n",
       "      <td>5.000000</td>\n",
       "      <td>defect</td>\n",
       "      <td>DD</td>\n",
       "      <td>0.686659</td>\n",
       "    </tr>\n",
       "    <tr>\n",
       "      <th>4</th>\n",
       "      <td>1</td>\n",
       "      <td>fully_connected</td>\n",
       "      <td>4</td>\n",
       "      <td>cooperate</td>\n",
       "      <td>CC</td>\n",
       "      <td>5.000000</td>\n",
       "      <td>defect</td>\n",
       "      <td>CC</td>\n",
       "      <td>5.000000</td>\n",
       "    </tr>\n",
       "    <tr>\n",
       "      <th>5</th>\n",
       "      <td>1</td>\n",
       "      <td>fully_connected</td>\n",
       "      <td>5</td>\n",
       "      <td>cooperate</td>\n",
       "      <td>CD</td>\n",
       "      <td>5.000000</td>\n",
       "      <td>defect</td>\n",
       "      <td>CD</td>\n",
       "      <td>5.000000</td>\n",
       "    </tr>\n",
       "    <tr>\n",
       "      <th>6</th>\n",
       "      <td>1</td>\n",
       "      <td>fully_connected</td>\n",
       "      <td>6</td>\n",
       "      <td>cooperate</td>\n",
       "      <td>DD</td>\n",
       "      <td>2.532715</td>\n",
       "      <td>defect</td>\n",
       "      <td>DD</td>\n",
       "      <td>3.766444</td>\n",
       "    </tr>\n",
       "    <tr>\n",
       "      <th>7</th>\n",
       "      <td>1</td>\n",
       "      <td>fully_connected</td>\n",
       "      <td>7</td>\n",
       "      <td>cooperate</td>\n",
       "      <td>DD</td>\n",
       "      <td>2.020420</td>\n",
       "      <td>defect</td>\n",
       "      <td>DD</td>\n",
       "      <td>0.549947</td>\n",
       "    </tr>\n",
       "    <tr>\n",
       "      <th>8</th>\n",
       "      <td>1</td>\n",
       "      <td>fully_connected</td>\n",
       "      <td>8</td>\n",
       "      <td>cooperate</td>\n",
       "      <td>CD</td>\n",
       "      <td>5.000000</td>\n",
       "      <td>defect</td>\n",
       "      <td>CD</td>\n",
       "      <td>0.789814</td>\n",
       "    </tr>\n",
       "  </tbody>\n",
       "</table>\n",
       "</div>"
      ],
      "text/plain": [
       "   participant_cluster          network  round  cooperate cooperate_rep  \\\n",
       "0                    1       disconnedt      0  cooperate            DD   \n",
       "1                    1       disconnedt      1  cooperate            DC   \n",
       "2                    1       disconnedt      2  cooperate            DD   \n",
       "3                    1       disconnedt      3  cooperate            DD   \n",
       "4                    1       disconnedt      4  cooperate            CC   \n",
       "5                    1       disconnedt      5  cooperate            CD   \n",
       "6                    1       disconnedt      6  cooperate            DD   \n",
       "7                    1       disconnedt      7  cooperate            DD   \n",
       "8                    1       disconnedt      8  cooperate            CD   \n",
       "0                    1  fully_connected      0  cooperate            DD   \n",
       "1                    1  fully_connected      1  cooperate            DC   \n",
       "2                    1  fully_connected      2  cooperate            DD   \n",
       "3                    1  fully_connected      3  cooperate            DD   \n",
       "4                    1  fully_connected      4  cooperate            CC   \n",
       "5                    1  fully_connected      5  cooperate            CD   \n",
       "6                    1  fully_connected      6  cooperate            DD   \n",
       "7                    1  fully_connected      7  cooperate            DD   \n",
       "8                    1  fully_connected      8  cooperate            CD   \n",
       "\n",
       "   blending_value  defect defect_rep  beldning_value  \n",
       "0        5.000000  defect         DD        5.000000  \n",
       "1        5.000000  defect         DC        5.000000  \n",
       "2        5.000000  defect         DD        5.000000  \n",
       "3        5.000000  defect         DD        0.686659  \n",
       "4        5.000000  defect         CC        5.000000  \n",
       "5        5.000000  defect         CD        5.000000  \n",
       "6        2.532715  defect         DD        3.766444  \n",
       "7        2.020420  defect         DD        0.549947  \n",
       "8        5.000000  defect         CD        0.789814  \n",
       "0        5.000000  defect         DD        5.000000  \n",
       "1        5.000000  defect         DC        5.000000  \n",
       "2        5.000000  defect         DD        5.000000  \n",
       "3        5.000000  defect         DD        0.686659  \n",
       "4        5.000000  defect         CC        5.000000  \n",
       "5        5.000000  defect         CD        5.000000  \n",
       "6        2.532715  defect         DD        3.766444  \n",
       "7        2.020420  defect         DD        0.549947  \n",
       "8        5.000000  defect         CD        0.789814  "
      ]
     },
     "execution_count": 74,
     "metadata": {},
     "output_type": "execute_result"
    }
   ],
   "source": [
    "marged_df = pd.concat([df_agent0,df_agent1])\n",
    "marged_df"
   ]
  },
  {
   "cell_type": "code",
   "execution_count": 75,
   "metadata": {},
   "outputs": [],
   "source": [
    "from datetime import date\n",
    "logfile_b=f\"agent0-blending-log-{date.today()}.csv\""
   ]
  },
  {
   "cell_type": "code",
   "execution_count": 76,
   "metadata": {},
   "outputs": [],
   "source": [
    "marged_df.to_csv(f\"agent0-blending-log-{date.today()}.csv\", sep=',')"
   ]
  },
  {
   "cell_type": "code",
   "execution_count": null,
   "metadata": {},
   "outputs": [],
   "source": [
    "# find out how the p unpack\n",
    "\n",
    "for p in random.choice(pairing):\n",
    "    print(p)\n",
    "    "
   ]
  },
  {
   "cell_type": "code",
   "execution_count": null,
   "metadata": {},
   "outputs": [],
   "source": [
    "def play_round():\n",
    "    #find two agents\n",
    "\n",
    "    #make them play round \n",
    "\n",
    "    #"
   ]
  },
  {
   "cell_type": "code",
   "execution_count": null,
   "metadata": {},
   "outputs": [],
   "source": [
    "last_round = a_last+b_last\n",
    "if last_round == 'CC':\n",
    "    result_a = a.choose(cooperate_CC,defect_CC)\n",
    "    result_b = b.choose(cooperate_CC,defect_CC)\n",
    "elif last_round == 'CD':\n",
    "    result_a = a.choose(cooperate_CD,defect_CD)\n",
    "    result_b = b.choose(cooperate_CD,defect_CD)\n",
    "elif last_round == 'DC':\n",
    "    result_a = a.choose(cooperate_DC,defect_DC)\n",
    "    result_b = b.choose(cooperate_DC,defect_DC)\n",
    "else:\n",
    "    result_a = a.choose(cooperate_DD,defect_DD)\n",
    "    result_b = b.choose(cooperate_DD,defect_DD)\n",
    "\n",
    "\n",
    "pair_result = (result_a['button'],result_b['button'])\n",
    "\n",
    "if pair_result == ('cooperate', 'cooperate'):\n",
    "    a.respond(5)\n",
    "    b.respond(5)\n",
    "    a_last = 'C'\n",
    "    b_last = 'C'\n",
    "    \n",
    "elif pair_result == ('cooperate', 'defect'):\n",
    "    a.respond(0)\n",
    "    b.respond(5)\n",
    "    a_last = 'C'\n",
    "    b_last = 'D'\n",
    "elif pair_result == ('defect', 'cooperate'):\n",
    "    a.respond(5)\n",
    "    b.respond(0)\n",
    "    a_last = 'D'\n",
    "    b_last = 'C'\n",
    "else:\n",
    "    a.respond(0)\n",
    "    b.respond(0)\n",
    "    a_last = 'D'\n",
    "    b_last = 'D'\n"
   ]
  },
  {
   "cell_type": "code",
   "execution_count": null,
   "metadata": {},
   "outputs": [],
   "source": []
  },
  {
   "cell_type": "code",
   "execution_count": null,
   "metadata": {},
   "outputs": [],
   "source": []
  },
  {
   "cell_type": "code",
   "execution_count": null,
   "metadata": {},
   "outputs": [],
   "source": []
  },
  {
   "cell_type": "code",
   "execution_count": null,
   "metadata": {},
   "outputs": [],
   "source": []
  },
  {
   "cell_type": "code",
   "execution_count": null,
   "metadata": {},
   "outputs": [],
   "source": [
    "#a.respond(2)\n",
    "#b.respond(2)\n",
    "#result_a\n",
    "pair_result"
   ]
  },
  {
   "cell_type": "code",
   "execution_count": null,
   "metadata": {},
   "outputs": [],
   "source": []
  },
  {
   "cell_type": "code",
   "execution_count": null,
   "metadata": {},
   "outputs": [],
   "source": [
    "a.instances()"
   ]
  },
  {
   "cell_type": "code",
   "execution_count": null,
   "metadata": {},
   "outputs": [],
   "source": []
  },
  {
   "cell_type": "markdown",
   "metadata": {},
   "source": [
    "### Attributes"
   ]
  },
  {
   "cell_type": "code",
   "execution_count": null,
   "metadata": {},
   "outputs": [],
   "source": [
    "pair_result"
   ]
  },
  {
   "cell_type": "code",
   "execution_count": null,
   "metadata": {},
   "outputs": [],
   "source": [
    "# create agents\n",
    "a = pyibl.Agent(\"Agent_a\", [\"button\", \"reputation\"], default_utility=5)\n",
    "b = pyibl.Agent(\"Agent_b\", [\"button\", \"reputation\"], default_utility=5)"
   ]
  },
  {
   "cell_type": "code",
   "execution_count": null,
   "metadata": {},
   "outputs": [],
   "source": [
    "# create detail for attributes\n",
    "cooperate = { \"button\": \"cooperate\", \"reputation\": 'C' }\n",
    "defect = { \"button\": \"defect\", \"reputation\": 'D' }"
   ]
  },
  {
   "cell_type": "code",
   "execution_count": null,
   "metadata": {},
   "outputs": [],
   "source": [
    "a.attributes[1]"
   ]
  },
  {
   "cell_type": "code",
   "execution_count": null,
   "metadata": {},
   "outputs": [],
   "source": [
    "# make choice and unpack decisions\n",
    "result_a = a.choose(cooperate, defect)\n",
    "result_b = b.choose(cooperate, defect)\n",
    "self_choice = result_a['button']\n",
    "self_rep = result_a['reputation']\n",
    "alter_chocie = result_b['button']\n",
    "alter_rep = result_b['reputation']"
   ]
  },
  {
   "cell_type": "code",
   "execution_count": null,
   "metadata": {},
   "outputs": [],
   "source": [
    "(self_choice, alter_chocie, self_rep, alter_rep)"
   ]
  },
  {
   "cell_type": "code",
   "execution_count": null,
   "metadata": {},
   "outputs": [],
   "source": [
    "a.instances()"
   ]
  },
  {
   "cell_type": "code",
   "execution_count": null,
   "metadata": {},
   "outputs": [],
   "source": [
    "cooperate['reputation']='C'\n",
    "cooperate"
   ]
  },
  {
   "cell_type": "code",
   "execution_count": null,
   "metadata": {},
   "outputs": [],
   "source": [
    "cooperate[\"reputation\"] = 'C'\n",
    "cooperate"
   ]
  },
  {
   "cell_type": "code",
   "execution_count": null,
   "metadata": {},
   "outputs": [],
   "source": [
    "a.reset()\n",
    "b.reset()"
   ]
  },
  {
   "cell_type": "code",
   "execution_count": null,
   "metadata": {},
   "outputs": [],
   "source": [
    "def make_choice():\n",
    "    result_a = a.choose(cooperate_a, defect_a)\n",
    "    result_b = b.choose(cooperate_b, defect_b)\n",
    "    self_choice = result_a['botton']\n",
    "    self_rep = result_a['reputation']\n",
    "    alter_chocie = result_b['botton']\n",
    "    alter_rep = result_b['reputation']\n",
    "    if (self_choice,alter_chocie) == ('cooperate','cooperate'):\n",
    "        a.respond(5)\n",
    "        b.respond(5)\n",
    "        \n",
    "    a.respond(2)\n",
    "    return result\n"
   ]
  },
  {
   "cell_type": "code",
   "execution_count": null,
   "metadata": {},
   "outputs": [],
   "source": [
    "b = make_choice()\n",
    "b['reputation']"
   ]
  },
  {
   "cell_type": "code",
   "execution_count": null,
   "metadata": {},
   "outputs": [],
   "source": [
    "a.instances()"
   ]
  },
  {
   "cell_type": "markdown",
   "metadata": {},
   "source": [
    "## 3 - Learning Rep properly\n"
   ]
  },
  {
   "cell_type": "code",
   "execution_count": null,
   "metadata": {},
   "outputs": [],
   "source": [
    "import random\n",
    "import pyibl"
   ]
  },
  {
   "cell_type": "code",
   "execution_count": null,
   "metadata": {},
   "outputs": [],
   "source": [
    "\n",
    "agents = [pyibl.Agent( name,[\"button\", \"reputation\"], default_utility=5 ) for name in \"012345\" ]\n",
    "cooperate_CC = { \"button\": \"cooperate\", \"reputation\": 'CC' }\n",
    "cooperate_CD = { \"button\": \"cooperate\", \"reputation\": 'CD' }\n",
    "cooperate_DC = { \"button\": \"cooperate\", \"reputation\": 'DC' }\n",
    "cooperate_DD = { \"button\": \"cooperate\", \"reputation\": 'DD' }\n",
    "defect_CC = { \"button\": \"defect\", \"reputation\": 'CC' }\n",
    "defect_CD = { \"button\": \"defect\", \"reputation\": 'CD' }\n",
    "defect_DC = { \"button\": \"defect\", \"reputation\": 'DC' }\n",
    "defect_DD = { \"button\": \"defect\", \"reputation\": 'DD' }"
   ]
  },
  {
   "cell_type": "code",
   "execution_count": null,
   "metadata": {},
   "outputs": [],
   "source": [
    "#initialize first move \n",
    "last_move = ['o'] * 6\n",
    "for i in range(6):\n",
    "    last_move[i] = 'C'#random.choice('CD')"
   ]
  },
  {
   "cell_type": "code",
   "execution_count": null,
   "metadata": {},
   "outputs": [],
   "source": [
    "#paring \n",
    "pairing = [[(0,1), (0,2),(0,3),(0,4),(1,0),(1,2),(1,3),(1,4)]] #double []!!"
   ]
  },
  {
   "cell_type": "code",
   "execution_count": null,
   "metadata": {},
   "outputs": [],
   "source": [
    "# find two agents\n",
    "for p in random.choice(pairing):\n",
    "    a = agents[p[0]]\n",
    "    b = agents[p[1]]\n",
    "    # also find their last move\n",
    "    a_last = last_move[p[0]]\n",
    "    b_last = last_move[p[1]]\n",
    "\n",
    "    print('a_rep',a,a_last, 'b_rep',b,b_last)\n",
    "\n",
    "    last_round = a_last+b_last\n",
    "    # make new choice based on past repuation\n",
    "    if last_round == 'CC':\n",
    "        result_a = a.choose(cooperate_CC, defect_CC)\n",
    "        result_b = b.choose(cooperate_CC, defect_CC)\n",
    "    elif last_round == 'CD':\n",
    "        result_a = a.choose(cooperate_CD, defect_CD)\n",
    "        result_b = b.choose(cooperate_DC, defect_DC)\n",
    "    elif last_round == 'DC':\n",
    "        result_a = a.choose(cooperate_DC, defect_DC)\n",
    "        result_b = b.choose(cooperate_CD, defect_CD) #bug!\n",
    "    else:\n",
    "        result_a = a.choose(cooperate_DD, defect_DD)\n",
    "        result_b = b.choose(cooperate_DD, defect_DD)\n",
    "    \n",
    "    # update result\n",
    "    pair_result = (result_a['button'],result_b['button'])\n",
    "    print('choice',pair_result,'rep',last_round)\n",
    "\n",
    "#I'm changing the reward matrix\n",
    "# (5,5)    ()\n",
    "# ()    ()\n",
    "\n",
    "    if pair_result == ('cooperate', 'cooperate'):\n",
    "        a.respond(5)\n",
    "        b.respond(5)\n",
    "        a_last = 'C'\n",
    "        b_last = 'C'\n",
    "        \n",
    "    elif pair_result == ('cooperate', 'defect'):\n",
    "        a.respond(0)\n",
    "        b.respond(5)\n",
    "        a_last = 'C'\n",
    "        b_last = 'D'\n",
    "    elif pair_result == ('defect', 'cooperate'):\n",
    "        a.respond(5)\n",
    "        b.respond(0)\n",
    "        a_last = 'D'\n",
    "        b_last = 'C'\n",
    "    else:\n",
    "        a.respond(0)\n",
    "        b.respond(0)\n",
    "        a_last = 'D'\n",
    "        b_last = 'D'\n",
    "    \n",
    "    last_move[p[0]] = a_last \n",
    "    last_move[p[1]] = b_last\n",
    "    print(p,'reputation used in this step', last_round )\n",
    "    print(p,'reputation generated in this step', last_move[p[0]],last_move[p[1]])"
   ]
  },
  {
   "cell_type": "code",
   "execution_count": null,
   "metadata": {},
   "outputs": [],
   "source": [
    "agents[0].instances()"
   ]
  },
  {
   "cell_type": "markdown",
   "metadata": {},
   "source": [
    "# networkX"
   ]
  },
  {
   "cell_type": "markdown",
   "metadata": {},
   "source": []
  },
  {
   "cell_type": "markdown",
   "metadata": {},
   "source": [
    "Let's see if average path length is actually meaningful in a cluster of 6"
   ]
  },
  {
   "cell_type": "code",
   "execution_count": null,
   "metadata": {},
   "outputs": [],
   "source": [
    "import networkx as nx\n",
    "import matplotlib as plt"
   ]
  },
  {
   "cell_type": "code",
   "execution_count": null,
   "metadata": {},
   "outputs": [],
   "source": [
    "G = nx.complete_graph(6)\n",
    "nx.drawing.circular_layout(G)\n",
    "nx.draw(G)\n",
    "\n"
   ]
  },
  {
   "cell_type": "code",
   "execution_count": null,
   "metadata": {},
   "outputs": [],
   "source": [
    "import numpy as np"
   ]
  },
  {
   "cell_type": "markdown",
   "metadata": {},
   "source": []
  },
  {
   "cell_type": "code",
   "execution_count": null,
   "metadata": {},
   "outputs": [],
   "source": [
    "def adjacent_edges(nodes, halfk):\n",
    "    \"\"\"Yields edges between each node and `halfk` neighbors.\n",
    "    \n",
    "    halfk: number of edges from each node\n",
    "    \"\"\"\n",
    "    n = len(nodes)\n",
    "    for i, u in enumerate(nodes):\n",
    "        for j in range(i+1, i+halfk+1):\n",
    "            v = nodes[j % n]\n",
    "            yield u, v\n",
    "            \n",
    "def make_ring_lattice(n, k):\n",
    "    \"\"\"Makes a ring lattice with `n` nodes and degree `k`.\n",
    "    \n",
    "    Note: this only works correctly if k is even.\n",
    "    \n",
    "    n: number of nodes\n",
    "    k: degree of each node\n",
    "    \"\"\"\n",
    "    G = nx.Graph()\n",
    "    nodes = range(n)\n",
    "    G.add_nodes_from(nodes)\n",
    "    G.add_edges_from(adjacent_edges(nodes, k//2))\n",
    "    return G\n",
    "\n",
    "#rewire to make WS graph from ring lattice, scr: ThinkComplexity2\n",
    "def rewire(G, p):\n",
    "    \"\"\"Rewires each edge with probability `p`.\n",
    "    \n",
    "    G: Graph\n",
    "    p: float\n",
    "    \"\"\"\n",
    "    nodes = set(G)\n",
    "    for u, v in G.edges():\n",
    "        if flip(p):\n",
    "            choices = nodes - {u} - set(G[u])\n",
    "            new_v = np.random.choice(list(choices))\n",
    "            G.remove_edge(u, v)\n",
    "            G.add_edge(u, new_v)\n",
    "\n",
    "def make_ws_graph(n, k, p):\n",
    "    \"\"\"Makes a Watts-Strogatz graph.\n",
    "    \n",
    "    n: number of nodes\n",
    "    k: degree of each node\n",
    "    p: probability of rewiring an edge\n",
    "    \"\"\"\n",
    "\n",
    "    ws = make_ring_lattice(n, k)\n",
    "    rewire(ws, p)\n",
    "    return ws\n",
    "\n",
    "def flip(p):\n",
    "    \"\"\"Returns True with probability `p`.\"\"\"\n",
    "    return np.random.random() < p"
   ]
  },
  {
   "cell_type": "code",
   "execution_count": null,
   "metadata": {},
   "outputs": [],
   "source": [
    "G2 = make_ring_lattice(50,4)"
   ]
  },
  {
   "cell_type": "code",
   "execution_count": null,
   "metadata": {},
   "outputs": [],
   "source": [
    "nx.drawing.circular_layout(G2)\n",
    "nx.draw(G2)\n",
    "nx.average_shortest_path_length(G2)"
   ]
  },
  {
   "cell_type": "markdown",
   "metadata": {},
   "source": []
  },
  {
   "cell_type": "code",
   "execution_count": null,
   "metadata": {},
   "outputs": [],
   "source": [
    "G3=  make_ws_graph(50, 4, 0.55)\n",
    "nx.drawing.circular_layout(G3)\n",
    "nx.draw(G3)\n",
    "nx.average_shortest_path_length(G3)"
   ]
  }
 ],
 "metadata": {
  "interpreter": {
   "hash": "aff9df1755635ce4714164c8c4a20bd8109c870f0a93ff0490634f44c044b7f8"
  },
  "kernelspec": {
   "display_name": "Python 3.7.11 64-bit ('DDML': conda)",
   "name": "python3"
  },
  "language_info": {
   "codemirror_mode": {
    "name": "ipython",
    "version": 3
   },
   "file_extension": ".py",
   "mimetype": "text/x-python",
   "name": "python",
   "nbconvert_exporter": "python",
   "pygments_lexer": "ipython3",
   "version": "3.7.11"
  },
  "orig_nbformat": 4
 },
 "nbformat": 4,
 "nbformat_minor": 2
}
